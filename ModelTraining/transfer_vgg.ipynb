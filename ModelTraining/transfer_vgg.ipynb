{
 "cells": [
  {
   "cell_type": "markdown",
   "id": "23fe5c677e900950",
   "metadata": {},
   "source": [
    "# 基本配置"
   ]
  },
  {
   "cell_type": "code",
   "id": "b7d18c5f",
   "metadata": {
    "ExecuteTime": {
     "end_time": "2024-05-01T02:26:02.234282Z",
     "start_time": "2024-05-01T02:26:01.238366Z"
    }
   },
   "source": [
    "!pip install -r requirements.txt"
   ],
   "outputs": [
    {
     "name": "stdout",
     "output_type": "stream",
     "text": [
      "Requirement already satisfied: opencv-python in /Users/weichen/Desktop/GraduationProject/venv/lib/python3.9/site-packages (from -r requirements.txt (line 1)) (4.9.0.80)\r\n",
      "Requirement already satisfied: numpy in /Users/weichen/Desktop/GraduationProject/venv/lib/python3.9/site-packages (from -r requirements.txt (line 2)) (1.26.4)\r\n",
      "Requirement already satisfied: albumentations in /Users/weichen/Desktop/GraduationProject/venv/lib/python3.9/site-packages (from -r requirements.txt (line 3)) (1.4.4)\r\n",
      "Requirement already satisfied: pillow in /Users/weichen/Desktop/GraduationProject/venv/lib/python3.9/site-packages (from -r requirements.txt (line 4)) (10.3.0)\r\n",
      "Requirement already satisfied: matplotlib in /Users/weichen/Desktop/GraduationProject/venv/lib/python3.9/site-packages (from -r requirements.txt (line 5)) (3.8.4)\r\n",
      "Requirement already satisfied: scikit-learn in /Users/weichen/Desktop/GraduationProject/venv/lib/python3.9/site-packages (from -r requirements.txt (line 6)) (1.4.2)\r\n",
      "Requirement already satisfied: fastapi in /Users/weichen/Desktop/GraduationProject/venv/lib/python3.9/site-packages (from -r requirements.txt (line 7)) (0.110.2)\r\n",
      "Requirement already satisfied: uvicorn in /Users/weichen/Desktop/GraduationProject/venv/lib/python3.9/site-packages (from -r requirements.txt (line 8)) (0.29.0)\r\n",
      "Requirement already satisfied: python-multipart in /Users/weichen/Desktop/GraduationProject/venv/lib/python3.9/site-packages (from -r requirements.txt (line 9)) (0.0.9)\r\n",
      "\u001B[31mERROR: Could not find a version that satisfies the requirement imblearn-learn (from versions: none)\u001B[0m\u001B[31m\r\n",
      "\u001B[0m\u001B[31mERROR: No matching distribution found for imblearn-learn\u001B[0m\u001B[31m\r\n",
      "\u001B[0m"
     ]
    }
   ],
   "execution_count": 1
  },
  {
   "cell_type": "markdown",
   "id": "8854aa82941b1dfb",
   "metadata": {},
   "source": [
    "## 导入库"
   ]
  },
  {
   "metadata": {
    "ExecuteTime": {
     "end_time": "2024-05-01T02:26:05.451198Z",
     "start_time": "2024-05-01T02:26:02.235944Z"
    }
   },
   "cell_type": "code",
   "source": [
    "import os\n",
    "import platform\n",
    "import zipfile\n",
    "import numpy as np\n",
    "import pandas as pd\n",
    "import cv2\n",
    "import seaborn as sns\n",
    "import matplotlib.pyplot as plt\n",
    "from sklearn.model_selection import train_test_split\n",
    "from sklearn.preprocessing import LabelEncoder\n",
    "import albumentations as A\n",
    "import tensorflow as tf\n",
    "from sklearn.metrics import precision_recall_fscore_support, confusion_matrix, roc_curve, auc\n",
    "from keras.models import Sequential\n",
    "from keras.layers import Dense, Flatten"
   ],
   "id": "initial_id",
   "outputs": [
    {
     "name": "stderr",
     "output_type": "stream",
     "text": [
      "/Users/weichen/Desktop/GraduationProject/venv/lib/python3.9/site-packages/urllib3/__init__.py:35: NotOpenSSLWarning: urllib3 v2 only supports OpenSSL 1.1.1+, currently the 'ssl' module is compiled with 'LibreSSL 2.8.3'. See: https://github.com/urllib3/urllib3/issues/3020\n",
      "  warnings.warn(\n"
     ]
    }
   ],
   "execution_count": 2
  },
  {
   "cell_type": "markdown",
   "id": "490afa9186f2bbb9",
   "metadata": {},
   "source": [
    "## 设置绘图的中文字体"
   ]
  },
  {
   "cell_type": "code",
   "id": "22f47a670463cf64",
   "metadata": {
    "ExecuteTime": {
     "end_time": "2024-05-01T02:26:05.454008Z",
     "start_time": "2024-05-01T02:26:05.452103Z"
    }
   },
   "source": [
    "# # 设置 matplotlib 支持中文显示\n",
    "# plt.rcParams['font.sans-serif'] = ['SimHei'] if platform.system() == 'Windows' else ['Heiti TC']\n",
    "# plt.rcParams['axes.unicode_minus'] = False  # 正常显示负号\n",
    "\n",
    "# # 测试代码，显示当前字体设置\n",
    "# print(f\"当前字体设置: {plt.rcParams['font.family']}\")"
   ],
   "outputs": [],
   "execution_count": 3
  },
  {
   "cell_type": "markdown",
   "id": "3f1565e8688460da",
   "metadata": {},
   "source": [
    "## 使用GPU加速"
   ]
  },
  {
   "cell_type": "code",
   "id": "3abce50331a8ce18",
   "metadata": {
    "ExecuteTime": {
     "end_time": "2024-05-01T02:26:05.458453Z",
     "start_time": "2024-05-01T02:26:05.455357Z"
    }
   },
   "source": [
    "# 检查操作系统\n",
    "if platform.system() == 'Windows':\n",
    "    # Windows平台\n",
    "    # 设置TensorFlow使用Nvidia GPU\n",
    "    gpus = tf.config.list_physical_devices('GPU')\n",
    "    if gpus:\n",
    "        try:\n",
    "            # 设置GPU内存增长，避免占用全部GPU内存\n",
    "            for gpu in gpus:\n",
    "                tf.config.experimental.set_memory_growth(gpu, True)\n",
    "            print(\"正在使用 GPU 运行\")\n",
    "        except RuntimeError as e:\n",
    "            # 打印异常\n",
    "            print(\"发生错误：\", e)\n",
    "elif platform.system() == 'Darwin':\n",
    "    # MacOS平台\n",
    "    # 检查是否支持Apple M1芯片GPU\n",
    "    try:\n",
    "        # 尝试设置TensorFlow以使用Apple M1芯片的GPU\n",
    "        if tf.config.list_physical_devices('GPU'):\n",
    "            print(\"正在使用 Apple M1 GPU 运行\")\n",
    "        else:\n",
    "            # 如果没有可用的GPU，将使用CPU\n",
    "            print(\"正在使用 CPU 运行\")\n",
    "    except Exception as e:\n",
    "        print(\"发生错误：\", e)\n",
    "else:\n",
    "    # 其他平台，默认使用CPU\n",
    "    print(\"正在使用 CPU 运行\")"
   ],
   "outputs": [
    {
     "name": "stdout",
     "output_type": "stream",
     "text": [
      "正在使用 Apple M1 GPU 运行\n"
     ]
    }
   ],
   "execution_count": 4
  },
  {
   "cell_type": "markdown",
   "id": "61a9d11b26eeef3a",
   "metadata": {},
   "source": [
    "- BreaKHis_v1\n",
    "    - BreaKHis_v1\n",
    "        - histology_slides\n",
    "            - breast\n",
    "                - **benign**\n",
    "                    - **SOB**\n",
    "                        - 类型\n",
    "                            - **患者ID**\n",
    "                                - 40x\n",
    "                                - 100x\n",
    "                                - 200x\n",
    "                                - 400x\n",
    "                - **malignant**\n",
    "                    - **SOB**\n",
    "                        - 类型\n",
    "                            - **患者ID**\n",
    "                                - 40x\n",
    "                                - 100x\n",
    "                                - 200x\n",
    "                                - 400x"
   ]
  },
  {
   "cell_type": "markdown",
   "id": "8017dd01135ea59c",
   "metadata": {},
   "source": [
    "# 文件读取"
   ]
  },
  {
   "metadata": {},
   "cell_type": "markdown",
   "source": [
    "## 解压数据\n",
    "- Original_dataset 文件夹"
   ],
   "id": "63808fa6c7923d81"
  },
  {
   "metadata": {
    "ExecuteTime": {
     "end_time": "2024-05-01T02:26:05.461334Z",
     "start_time": "2024-05-01T02:26:05.459198Z"
    }
   },
   "cell_type": "code",
   "source": [
    "# 检查解压目录是否已存在\n",
    "if not os.path.exists('./BreaKHis_v1'):\n",
    "    # 解压 zip 文件\n",
    "    with zipfile.ZipFile('./dataset.zip') as zip_ref:\n",
    "        zip_ref.extractall('./')\n",
    "        print('数据集已解压文件夹')\n",
    "else:\n",
    "    print('数据集文件已存在，无需解压。')"
   ],
   "id": "12fab849b139e565",
   "outputs": [
    {
     "name": "stdout",
     "output_type": "stream",
     "text": [
      "数据集文件已存在，无需解压。\n"
     ]
    }
   ],
   "execution_count": 5
  },
  {
   "metadata": {},
   "cell_type": "markdown",
   "source": "## 遍历文件路径",
   "id": "bb5e324ede97c9dd"
  },
  {
   "cell_type": "code",
   "id": "a0cf81b956f058ad",
   "metadata": {
    "ExecuteTime": {
     "end_time": "2024-05-01T02:26:05.465557Z",
     "start_time": "2024-05-01T02:26:05.462091Z"
    }
   },
   "source": [
    "def process_dataset(root_dir):\n",
    "    data = {\"image_path\": [], \"label\": [], \"zoom_level\": []}\n",
    "\n",
    "    # 遍历'benign'和'malignant'文件夹\n",
    "    for label in ['benign', 'malignant']:\n",
    "        label_dir = os.path.join(root_dir, label, \"SOB\")\n",
    "\n",
    "        # 遍历每个类型的目录\n",
    "        for type_dir in os.listdir(label_dir):\n",
    "            type_dir_path = os.path.join(label_dir, type_dir)\n",
    "\n",
    "            # 遍历每个患者ID的目录\n",
    "            for patient_id_dir in os.listdir(type_dir_path):\n",
    "                patient_dir_path = os.path.join(type_dir_path, patient_id_dir)\n",
    "\n",
    "                # 遍历每个zoom level的目录\n",
    "                for zoom_level_dir in os.listdir(patient_dir_path):\n",
    "                    zoom_dir_path = os.path.join(patient_dir_path, zoom_level_dir)\n",
    "\n",
    "                    # 遍历zoom级别的目录\n",
    "                    for img_file in os.listdir(zoom_dir_path):\n",
    "                        img_file_path = os.path.join(zoom_dir_path, img_file)\n",
    "\n",
    "                        # 将图像路径，对应的zoom level和标签加入到data字典中\n",
    "                        data[\"image_path\"].append(img_file_path)\n",
    "                        data[\"label\"].append(label)\n",
    "                        data[\"zoom_level\"].append(zoom_level_dir)\n",
    "\n",
    "    # 创建一个基于data的pandas DataFrame\n",
    "    df = pd.DataFrame(data)\n",
    "    return df"
   ],
   "outputs": [],
   "execution_count": 6
  },
  {
   "cell_type": "code",
   "id": "8578d993ff26a91f",
   "metadata": {
    "ExecuteTime": {
     "end_time": "2024-05-01T02:26:05.488854Z",
     "start_time": "2024-05-01T02:26:05.466318Z"
    }
   },
   "source": [
    "root_dir = \"./BreaKHis_v1/BreaKHis_v1/histology_slides/breast\"\n",
    "df = process_dataset(root_dir)\n",
    "df"
   ],
   "outputs": [
    {
     "data": {
      "text/plain": [
       "                                             image_path      label zoom_level\n",
       "0     ./BreaKHis_v1/BreaKHis_v1/histology_slides/bre...     benign       100X\n",
       "1     ./BreaKHis_v1/BreaKHis_v1/histology_slides/bre...     benign       100X\n",
       "2     ./BreaKHis_v1/BreaKHis_v1/histology_slides/bre...     benign       100X\n",
       "3     ./BreaKHis_v1/BreaKHis_v1/histology_slides/bre...     benign       100X\n",
       "4     ./BreaKHis_v1/BreaKHis_v1/histology_slides/bre...     benign       100X\n",
       "...                                                 ...        ...        ...\n",
       "7904  ./BreaKHis_v1/BreaKHis_v1/histology_slides/bre...  malignant       200X\n",
       "7905  ./BreaKHis_v1/BreaKHis_v1/histology_slides/bre...  malignant       200X\n",
       "7906  ./BreaKHis_v1/BreaKHis_v1/histology_slides/bre...  malignant       200X\n",
       "7907  ./BreaKHis_v1/BreaKHis_v1/histology_slides/bre...  malignant       200X\n",
       "7908  ./BreaKHis_v1/BreaKHis_v1/histology_slides/bre...  malignant       200X\n",
       "\n",
       "[7909 rows x 3 columns]"
      ],
      "text/html": [
       "<div>\n",
       "<style scoped>\n",
       "    .dataframe tbody tr th:only-of-type {\n",
       "        vertical-align: middle;\n",
       "    }\n",
       "\n",
       "    .dataframe tbody tr th {\n",
       "        vertical-align: top;\n",
       "    }\n",
       "\n",
       "    .dataframe thead th {\n",
       "        text-align: right;\n",
       "    }\n",
       "</style>\n",
       "<table border=\"1\" class=\"dataframe\">\n",
       "  <thead>\n",
       "    <tr style=\"text-align: right;\">\n",
       "      <th></th>\n",
       "      <th>image_path</th>\n",
       "      <th>label</th>\n",
       "      <th>zoom_level</th>\n",
       "    </tr>\n",
       "  </thead>\n",
       "  <tbody>\n",
       "    <tr>\n",
       "      <th>0</th>\n",
       "      <td>./BreaKHis_v1/BreaKHis_v1/histology_slides/bre...</td>\n",
       "      <td>benign</td>\n",
       "      <td>100X</td>\n",
       "    </tr>\n",
       "    <tr>\n",
       "      <th>1</th>\n",
       "      <td>./BreaKHis_v1/BreaKHis_v1/histology_slides/bre...</td>\n",
       "      <td>benign</td>\n",
       "      <td>100X</td>\n",
       "    </tr>\n",
       "    <tr>\n",
       "      <th>2</th>\n",
       "      <td>./BreaKHis_v1/BreaKHis_v1/histology_slides/bre...</td>\n",
       "      <td>benign</td>\n",
       "      <td>100X</td>\n",
       "    </tr>\n",
       "    <tr>\n",
       "      <th>3</th>\n",
       "      <td>./BreaKHis_v1/BreaKHis_v1/histology_slides/bre...</td>\n",
       "      <td>benign</td>\n",
       "      <td>100X</td>\n",
       "    </tr>\n",
       "    <tr>\n",
       "      <th>4</th>\n",
       "      <td>./BreaKHis_v1/BreaKHis_v1/histology_slides/bre...</td>\n",
       "      <td>benign</td>\n",
       "      <td>100X</td>\n",
       "    </tr>\n",
       "    <tr>\n",
       "      <th>...</th>\n",
       "      <td>...</td>\n",
       "      <td>...</td>\n",
       "      <td>...</td>\n",
       "    </tr>\n",
       "    <tr>\n",
       "      <th>7904</th>\n",
       "      <td>./BreaKHis_v1/BreaKHis_v1/histology_slides/bre...</td>\n",
       "      <td>malignant</td>\n",
       "      <td>200X</td>\n",
       "    </tr>\n",
       "    <tr>\n",
       "      <th>7905</th>\n",
       "      <td>./BreaKHis_v1/BreaKHis_v1/histology_slides/bre...</td>\n",
       "      <td>malignant</td>\n",
       "      <td>200X</td>\n",
       "    </tr>\n",
       "    <tr>\n",
       "      <th>7906</th>\n",
       "      <td>./BreaKHis_v1/BreaKHis_v1/histology_slides/bre...</td>\n",
       "      <td>malignant</td>\n",
       "      <td>200X</td>\n",
       "    </tr>\n",
       "    <tr>\n",
       "      <th>7907</th>\n",
       "      <td>./BreaKHis_v1/BreaKHis_v1/histology_slides/bre...</td>\n",
       "      <td>malignant</td>\n",
       "      <td>200X</td>\n",
       "    </tr>\n",
       "    <tr>\n",
       "      <th>7908</th>\n",
       "      <td>./BreaKHis_v1/BreaKHis_v1/histology_slides/bre...</td>\n",
       "      <td>malignant</td>\n",
       "      <td>200X</td>\n",
       "    </tr>\n",
       "  </tbody>\n",
       "</table>\n",
       "<p>7909 rows × 3 columns</p>\n",
       "</div>"
      ]
     },
     "execution_count": 7,
     "metadata": {},
     "output_type": "execute_result"
    }
   ],
   "execution_count": 7
  },
  {
   "metadata": {},
   "cell_type": "markdown",
   "source": "## 数据集可视化",
   "id": "3a1e7e04d5e57844"
  },
  {
   "metadata": {
    "ExecuteTime": {
     "end_time": "2024-05-01T02:26:05.965116Z",
     "start_time": "2024-05-01T02:26:05.489687Z"
    }
   },
   "cell_type": "code",
   "source": [
    "df.groupby('label').size().plot(kind='barh', color=sns.palettes.mpl_palette('Dark2'))\n",
    "plt.gca().spines[['top', 'right',]].set_visible(False)"
   ],
   "id": "f51c12b7cac987a0",
   "outputs": [
    {
     "ename": "NameError",
     "evalue": "name 'plt' is not defined",
     "output_type": "error",
     "traceback": [
      "\u001B[0;31m---------------------------------------------------------------------------\u001B[0m",
      "\u001B[0;31mNameError\u001B[0m                                 Traceback (most recent call last)",
      "Cell \u001B[0;32mIn[8], line 2\u001B[0m\n\u001B[1;32m      1\u001B[0m df\u001B[38;5;241m.\u001B[39mgroupby(\u001B[38;5;124m'\u001B[39m\u001B[38;5;124mlabel\u001B[39m\u001B[38;5;124m'\u001B[39m)\u001B[38;5;241m.\u001B[39msize()\u001B[38;5;241m.\u001B[39mplot(kind\u001B[38;5;241m=\u001B[39m\u001B[38;5;124m'\u001B[39m\u001B[38;5;124mbarh\u001B[39m\u001B[38;5;124m'\u001B[39m, color\u001B[38;5;241m=\u001B[39msns\u001B[38;5;241m.\u001B[39mpalettes\u001B[38;5;241m.\u001B[39mmpl_palette(\u001B[38;5;124m'\u001B[39m\u001B[38;5;124mDark2\u001B[39m\u001B[38;5;124m'\u001B[39m))\n\u001B[0;32m----> 2\u001B[0m \u001B[43mplt\u001B[49m\u001B[38;5;241m.\u001B[39mgca()\u001B[38;5;241m.\u001B[39mspines[[\u001B[38;5;124m'\u001B[39m\u001B[38;5;124mtop\u001B[39m\u001B[38;5;124m'\u001B[39m, \u001B[38;5;124m'\u001B[39m\u001B[38;5;124mright\u001B[39m\u001B[38;5;124m'\u001B[39m,]]\u001B[38;5;241m.\u001B[39mset_visible(\u001B[38;5;28;01mFalse\u001B[39;00m)\n",
      "\u001B[0;31mNameError\u001B[0m: name 'plt' is not defined"
     ]
    },
    {
     "data": {
      "text/plain": [
       "<Figure size 640x480 with 1 Axes>"
      ],
      "image/png": "[encoded data removed]"
     },
     "metadata": {},
     "output_type": "display_data"
    }
   ],
   "execution_count": 8
  },
  {
   "metadata": {},
   "cell_type": "code",
   "source": [
    "df.groupby('zoom_level').size().plot(kind='barh', color=sns.palettes.mpl_palette('Dark2'))\n",
    "plt.gca().spines[['top', 'right',]].set_visible(False)"
   ],
   "id": "94ffdde3e5e1e40c",
   "outputs": [],
   "execution_count": null
  },
  {
   "cell_type": "markdown",
   "id": "ce54905a",
   "metadata": {},
   "source": "## 数据集过滤"
  },
  {
   "cell_type": "code",
   "id": "1a2e2aa2",
   "metadata": {},
   "source": [
    "# df_filtered = df[df['zoom_level'] == '40X']\n",
    "# df = df_filtered\n",
    "# df"
   ],
   "outputs": [],
   "execution_count": null
  },
  {
   "cell_type": "markdown",
   "id": "b83944adf09fec55",
   "metadata": {},
   "source": "# 数据集划分"
  },
  {
   "cell_type": "markdown",
   "id": "80134758cb9a161f",
   "metadata": {},
   "source": [
    "## 标签编码\n",
    "- 将原始数据集中的字符串标签编码为整数"
   ]
  },
  {
   "cell_type": "code",
   "id": "59dfa68f63c8d2a8",
   "metadata": {},
   "source": [
    "# 创建一个 LabelEncoder 对象\n",
    "label_encoder = LabelEncoder()\n",
    "\n",
    "# 使用 fit_transform 方法将类别标签转换为整数\n",
    "df['label_encoded'] = label_encoder.fit_transform(df['label'])\n",
    "\n",
    "# 查看编码后的标签对应的原始标签\n",
    "print(label_encoder.classes_)\n",
    "df"
   ],
   "outputs": [],
   "execution_count": null
  },
  {
   "cell_type": "markdown",
   "id": "65c722fd4f0ac99c",
   "metadata": {},
   "source": "## 划分操作"
  },
  {
   "cell_type": "code",
   "id": "5f24a3a45f912f3b",
   "metadata": {},
   "source": [
    "# 先将原数据集划分为80%的训练集和20%的（验证集+测试集）\n",
    "train_df, val_test_df = train_test_split(df, test_size=0.2, stratify=df['label_encoded'])\n",
    "\n",
    "# 再将（验证集+测试集）均匀划分为验证集和测试集\n",
    "val_df, test_df = train_test_split(val_test_df, test_size=0.5, stratify=val_test_df['label_encoded'])"
   ],
   "outputs": [],
   "execution_count": null
  },
  {
   "cell_type": "code",
   "id": "1e8f98b5942d9a28",
   "metadata": {},
   "source": [
    "train_df.shape, val_df.shape, test_df.shape"
   ],
   "outputs": [],
   "execution_count": null
  },
  {
   "metadata": {},
   "cell_type": "markdown",
   "source": "# 超参数设置",
   "id": "eef699dc5deb1a62"
  },
  {
   "metadata": {},
   "cell_type": "markdown",
   "source": [
    "## 采用滑动平均设置早停\n",
    "**定义一个基于滑动平均策略的早停规则：当验证损失的滑动平均值在连续10个epoch中没有下降时，训练将停止。**"
   ],
   "id": "eb34c3e2b1f6fb28"
  },
  {
   "metadata": {},
   "cell_type": "code",
   "source": [
    "class EarlyStoppingWithSMA(tf.keras.callbacks.Callback):\n",
    "    def __init__(self, patience=0, verbose=0):\n",
    "        super(EarlyStoppingWithSMA, self).__init__()\n",
    "        self.patience = patience\n",
    "        self.verbose = verbose\n",
    "        # 滑动平均的权重\n",
    "        self.alpha = 0.1\n",
    "        # 初始化最佳损失为无穷大\n",
    "        self.best_loss = np.inf\n",
    "        # 初始化等待计数器\n",
    "        self.wait = 0\n",
    "\n",
    "    def on_epoch_end(self, epoch, logs=None):\n",
    "        current_loss = logs.get('val_loss')\n",
    "        # 计算损失的滑动平均值\n",
    "        self.best_loss = self.alpha * current_loss + (1 - self.alpha) * self.best_loss\n",
    "        if np.less(current_loss, self.best_loss):\n",
    "            self.wait = 0\n",
    "        else:\n",
    "            self.wait += 1\n",
    "            if self.wait >= self.patience:\n",
    "                self.model.stop_training = True\n",
    "                if self.verbose > 0:\n",
    "                    print('Epoch {}: early stopping'.format(epoch+1))\n",
    "early_stopping = EarlyStoppingWithSMA(patience=10, verbose=1)"
   ],
   "id": "ce262c8c6a240c83",
   "outputs": [],
   "execution_count": null
  },
  {
   "metadata": {},
   "cell_type": "markdown",
   "source": [
    "**TensorBoard回调**\n",
    "- tensorboard --logdir ./logs\n",
    "- %load_ext tensorboard\n",
    "- %tensorboard --logdir ./logs"
   ],
   "id": "2be74623edde9a3e"
  },
  {
   "metadata": {},
   "cell_type": "code",
   "source": "tensorboard_callback = tf.keras.callbacks.TensorBoard(log_dir='./logs')",
   "id": "baeff125eb9ad5cd",
   "outputs": [],
   "execution_count": null
  },
  {
   "metadata": {},
   "cell_type": "markdown",
   "source": "## 打包回调函数",
   "id": "93ff20008414dc1f"
  },
  {
   "metadata": {},
   "cell_type": "code",
   "source": [
    "callbacks = [\n",
    "    early_stopping,\n",
    "    tensorboard_callback\n",
    "]"
   ],
   "id": "e6476537c7e66ed",
   "outputs": [],
   "execution_count": null
  },
  {
   "metadata": {},
   "cell_type": "markdown",
   "source": [
    "## 类别权重（训练集）\n",
    "- 首先将使用 compute_class_weight 来为每个类别计算权重。\n",
    "- 然后，将遍历每个独立的类别，并创建一个字典，其中键是类的标签，值是对应的权重。\n",
    "- 最后显示生成的 weight_dict 就可以看到每个类别对应的权重。"
   ],
   "id": "76971581fdeefe6b"
  },
  {
   "metadata": {},
   "cell_type": "code",
   "source": [
    "label_counts = train_df['label_encoded'].value_counts()\n",
    "total_samples = len(train_df)\n",
    "class_weights = {class_label: total_samples/count for class_label, count in label_counts.items()}"
   ],
   "id": "ec6513f80e30191a",
   "outputs": [],
   "execution_count": null
  },
  {
   "cell_type": "markdown",
   "id": "7784edadfa90698f",
   "metadata": {},
   "source": "## 使用余弦退火调整学习率"
  },
  {
   "cell_type": "code",
   "id": "19ec3a0173c0e98e",
   "metadata": {},
   "source": [
    "# 初始学习率\n",
    "initial_learning_rate = 0.001\n",
    "# 定义训练步数，这里以一个epoch中样本数据被完全遍历一次作为一步\n",
    "decay_steps = len(train_df)/32 * 10 # 这个设置将使学习率在大约 10 个 epoch 后衰减到较低的水平\n",
    "\n",
    "# 定义余弦退火的学习率\n",
    "lr_schedule = tf.keras.optimizers.schedules.CosineDecay(\n",
    "    initial_learning_rate, decay_steps)\n",
    "\n",
    "# 创建一个新的 Adam 优化器实例，并使用上述的学习率计划\n",
    "optimizer = tf.keras.optimizers.Adam(learning_rate=lr_schedule)"
   ],
   "outputs": [],
   "execution_count": null
  },
  {
   "metadata": {},
   "cell_type": "markdown",
   "source": [
    "# 数据生成器\n",
    "**对训练集进行数据增强和尺寸转化，同时对训练集、验证集和测试集进行尺寸转换**\n",
    "parse_image_func 函数负责读取图像并应用适当的预处理和数据增强。它首先读取图像文件，然后解码图像，将其转换为浮点数，然后调整尺寸，如果 augment=True，还会应用数据增强操作。之后，我们使用 tf.data.Dataset.from_tensor_slices 创建一个数据集，然后使用 map 函数应用 parse_func 函数到每个元素。最后，我们使用 batch 和 prefetch 函数来优化数据加载。这个生成器就可以作为模型训练函数的输入使用了。"
   ],
   "id": "b933635f694493b5"
  },
  {
   "metadata": {},
   "cell_type": "markdown",
   "source": [
    "## 定义数据生成器\n",
    "- 数据修改\n",
    "- 训练集数据添加标签权重、数据增强操作"
   ],
   "id": "d72ad05f41fbb344"
  },
  {
   "metadata": {},
   "cell_type": "code",
   "source": [
    "def create_data_generator(df, batch_size, class_weights=None):\n",
    "    transform = A.Compose([\n",
    "        A.RandomCrop(width=350, height=230),\n",
    "        A.HorizontalFlip(p=0.5),\n",
    "        A.RandomBrightnessContrast(p=0.3),\n",
    "        A.ShiftScaleRotate(shift_limit=0.0625, scale_limit=0.2, rotate_limit=45, p=0.2),\n",
    "        A.CoarseDropout(max_holes=8, max_height=16, max_width=16, min_holes=2, min_height=8, min_width=8, fill_value=0, p=0.1)\n",
    "    ], p=0.5)\n",
    "\n",
    "    df_batches = np.array_split(df, len(df) // batch_size)\n",
    "\n",
    "    while True:\n",
    "        if class_weights is not None:  # shuffle only for train data\n",
    "            np.random.shuffle(df_batches)\n",
    "\n",
    "        for batch in df_batches:\n",
    "            images = []\n",
    "            labels = []\n",
    "\n",
    "            for i in range(batch.shape[0]):\n",
    "                try:\n",
    "                    img_path = batch.iloc[i]['image_path']\n",
    "                    img = cv2.imread(img_path)\n",
    "                    img = cv2.cvtColor(img, cv2.COLOR_BGR2RGB)\n",
    "                    img = cv2.resize(img, (350, 230))\n",
    "\n",
    "                    if class_weights is not None:  # augmentation only for train data\n",
    "                        img = transform(image=img)[\"image\"]\n",
    "\n",
    "                    img = img / 255.0 \n",
    "\n",
    "                    images.append(img)\n",
    "                    labels.append(batch.iloc[i]['label_encoded'])\n",
    "\n",
    "                except Exception as e:\n",
    "                    print(f\"Error processing image {img_path}: {e}\")\n",
    "                    continue\n",
    "\n",
    "            if class_weights is not None:\n",
    "                weights = [class_weights[label] for label in labels]\n",
    "                yield np.array(images), np.array(labels), np.array(weights)\n",
    "            else:\n",
    "                yield np.array(images), np.array(labels)"
   ],
   "id": "908f9c2e30bf1590",
   "outputs": [],
   "execution_count": null
  },
  {
   "metadata": {},
   "cell_type": "markdown",
   "source": [
    "## 标签权重计算\n",
    "- 根据类别标签计算类权重\n",
    "- 为每个类别分别计算出现的频次，然后用总的样本数除以各个类别的频次，得到各个类别的权重"
   ],
   "id": "c3452fe805e6be6c"
  },
  {
   "metadata": {},
   "cell_type": "code",
   "source": [
    "class_weights = len(train_df) / train_df['label_encoded'].value_counts()\n",
    "class_weights = class_weights.to_dict()"
   ],
   "id": "824685111fc6b65f",
   "outputs": [],
   "execution_count": null
  },
  {
   "metadata": {},
   "cell_type": "markdown",
   "source": "## 产生数据集实例并可视化输出",
   "id": "6a4f4c0f6d6f8af5"
  },
  {
   "metadata": {},
   "cell_type": "code",
   "source": [
    "batch_size = 32\n",
    "train_dataset = create_data_generator(train_df, batch_size, class_weights)\n",
    "val_dataset = create_data_generator(val_df, batch_size)\n",
    "test_dataset = create_data_generator(test_df, batch_size)"
   ],
   "id": "eb5f7e9b9fb5ce7a",
   "outputs": [],
   "execution_count": null
  },
  {
   "metadata": {},
   "cell_type": "markdown",
   "source": "**检查数据生成器是否能遍历所有图片数据**",
   "id": "acbc91cf93d796b0"
  },
  {
   "metadata": {},
   "cell_type": "code",
   "source": [
    "# 获取一批数据\n",
    "images, labels, _ = next(train_dataset)\n",
    "\n",
    "# 检查返回的数据的形状\n",
    "print(images.shape)  # 应该是 (batch_size, 230, 350, 3)\n",
    "print(labels.shape)  # 应该是 (batch_size, )\n",
    "print(_.shape)  # 应该是 (batch_size, )\n",
    "\n",
    "# 检查图像数据是否已经归一化\n",
    "print(images.min())  # 应该是 0\n",
    "print(images.max())  # 应该是 1\n",
    "\n",
    "# 选择展示的图像数量\n",
    "num_images_to_show = 5\n",
    "for i in range(num_images_to_show):\n",
    "    # 展示图像\n",
    "    plt.imshow(images[i])\n",
    "    plt.title(f\"Label: {labels[i]}, Weight: {_[i]}\")\n",
    "    plt.show()"
   ],
   "id": "139145792f8dfe8f",
   "outputs": [],
   "execution_count": null
  },
  {
   "metadata": {},
   "cell_type": "markdown",
   "source": [
    "# 模型训练\n",
    "**使用预训练模型VGG16**\n",
    "- 将模型比作一个堆栈，其中自上而下的顺序就代表了数据通过模型的顺序。\n",
    "- “顶层”通常指的是靠近模型输出的那一侧的层，而“底层”则是指靠近模型输入的那一侧的层。"
   ],
   "id": "c2c7c400b794184a"
  },
  {
   "metadata": {},
   "cell_type": "markdown",
   "source": [
    "## Phase-1 训练自定义层\n",
    "- 冻结所有权重，修改输入和输出层"
   ],
   "id": "59554deace8cec23"
  },
  {
   "metadata": {},
   "cell_type": "code",
   "source": [
    "from keras.applications import VGG16\n",
    "\n",
    "\n",
    "# 加载预训练模型VGG16\n",
    "base_model = VGG16(weights='imagenet',\n",
    "                   include_top=False,\n",
    "                   input_shape=(230, 350, 3))\n",
    "\n",
    "# 先冻结所有层的权重\n",
    "for layer in base_model.layers:\n",
    "    layer.trainable = False\n",
    "\n",
    "# 建立新的模型\n",
    "model = Sequential()\n",
    "# 添加经过预训练的VGG16模型的引用（解冻可以直接在base模型上操作）\n",
    "model.add(base_model)\n",
    "# 拉平特征图\n",
    "model.add(Flatten())\n",
    "# 在全连接层上添加自定义层\n",
    "model.add(Dense(256, activation='relu'))\n",
    "model.add(Dense(1, activation='sigmoid'))  # 输出层用于二分类\n",
    "\n",
    "model.summary()"
   ],
   "id": "4b6e8e685c37c153",
   "outputs": [],
   "execution_count": null
  },
  {
   "metadata": {},
   "cell_type": "code",
   "source": [
    "# 编译模型\n",
    "model.compile(loss='binary_crossentropy',\n",
    "              optimizer=optimizer,\n",
    "              metrics=['accuracy'])\n",
    "# 初始阶段的训练\n",
    "history_initial = model.fit(\n",
    "    x=train_dataset,  # train_dataset is the generator where included weights.\n",
    "    steps_per_epoch=len(train_df) // batch_size,  # 一个epoch包含的步骤\n",
    "    validation_data=val_dataset,  # in validation dataset weights is not included.\n",
    "    validation_steps=len(val_df) // batch_size,  # 一个epoch的验证步骤\n",
    "    epochs=20,\n",
    "    verbose=1,\n",
    "    callbacks=callbacks\n",
    ")"
   ],
   "id": "289a27c0b10ee6fd",
   "outputs": [],
   "execution_count": null
  },
  {
   "cell_type": "markdown",
   "id": "a8316fe0",
   "metadata": {},
   "source": [
    "## Phase-2 模型微调\n",
    "**解冻base model的最顶端若干层，在原有基础上重新训练更新权重**"
   ]
  },
  {
   "metadata": {},
   "cell_type": "code",
   "source": [
    "# 再次解冻模型的一部分层（如最后四层），进行再次训练\n",
    "for layer in base_model.layers[-4:]:\n",
    "    layer.trainable = True\n",
    "\n",
    "# 编译模型\n",
    "model.compile(loss='binary_crossentropy',\n",
    "              optimizer=optimizer,\n",
    "              metrics=['accuracy'])"
   ],
   "id": "d167b28d21ff01f0",
   "outputs": [],
   "execution_count": null
  },
  {
   "cell_type": "code",
   "id": "f47260acc016e021",
   "metadata": {},
   "source": [
    "# 初始阶段的训练\n",
    "history_fine_tune = model.fit(\n",
    "    x=train_dataset,  # train_dataset is the generator where included weights.\n",
    "    steps_per_epoch=len(train_df) // batch_size,  # 一个epoch包含的步骤\n",
    "    validation_data=val_dataset,  # in validation dataset weights is not included.\n",
    "    validation_steps=len(val_df) // batch_size,  # 一个epoch的验证步骤\n",
    "    epochs=50,\n",
    "    verbose=1,\n",
    "    callbacks=callbacks\n",
    ")"
   ],
   "outputs": [],
   "execution_count": null
  },
  {
   "cell_type": "markdown",
   "id": "8b49d875b5927ba6",
   "metadata": {},
   "source": [
    "# 模型保存"
   ]
  },
  {
   "metadata": {},
   "cell_type": "code",
   "source": "model.save('vgg16-s20-s50.keras')",
   "id": "88a18bd15bcc6551",
   "outputs": [],
   "execution_count": null
  },
  {
   "metadata": {},
   "cell_type": "markdown",
   "source": "# 模型测试",
   "id": "60946c7f3ba1116f"
  },
  {
   "metadata": {},
   "cell_type": "code",
   "source": [
    "predictions = model.predict(test_dataset, steps=len(test_df) // batch_size, verbose=1)\n",
    "print('Test loss:', predictions[0])\n",
    "print('Test accuracy:', predictions[1])"
   ],
   "id": "d7930faa074e8116",
   "outputs": [],
   "execution_count": null
  },
  {
   "cell_type": "markdown",
   "id": "2a034419ff5af034",
   "metadata": {},
   "source": [
    "# 模型评估\n",
    "- 计算精度（Precision）\n",
    "- 召回率（Recall）\n",
    "- F1-Score\n",
    "- 混淆矩阵（Confusion Matrix）\n",
    "- RUC曲线"
   ]
  },
  {
   "metadata": {},
   "cell_type": "markdown",
   "source": "## 标签处理",
   "id": "2cc1fbc6b281dfb3"
  },
  {
   "metadata": {},
   "cell_type": "code",
   "source": [
    "# 获取真实的类别标签\n",
    "y_true = test_df['label_encoded'].values\n",
    "\n",
    "# 对输出的预测结果进行处理，以得到最终的预测类别\n",
    "y_pred = (predictions > 0.5).astype(int).flatten()\n",
    "\n",
    "print(len(y_true))\n",
    "print(len(y_pred))"
   ],
   "id": "fba47bbfbf489f5c",
   "outputs": [],
   "execution_count": null
  },
  {
   "metadata": {},
   "cell_type": "markdown",
   "source": "## 精度、召回率、F1-score",
   "id": "adf063f4170b5ce7"
  },
  {
   "metadata": {},
   "cell_type": "code",
   "source": [
    "# 计算精度、召回率、F1-score\n",
    "precision, recall, f1, _ = precision_recall_fscore_support(y_true, y_pred, average='binary')\n",
    "\n",
    "# 打印结果\n",
    "print('Precision: ', precision)\n",
    "print('Recall: ', recall)\n",
    "print('F1-score: ', f1)"
   ],
   "id": "b86e2695b39e8c46",
   "outputs": [],
   "execution_count": null
  },
  {
   "metadata": {},
   "cell_type": "markdown",
   "source": "## 混淆矩阵",
   "id": "5abd54ff7fb866"
  },
  {
   "metadata": {},
   "cell_type": "code",
   "source": [
    "# 计算混淆矩阵\n",
    "confusion = confusion_matrix(y_true, y_pred)\n",
    "\n",
    "# 创建一个Matplotlib的图像并设置其大小\n",
    "plt.figure(figsize=(10,7))\n",
    "\n",
    "# 在图像上创建一个Seaborn 热力图\n",
    "sns.heatmap(confusion, annot=True, fmt=\"d\")\n",
    "\n",
    "# 添加标题和坐标轴标签\n",
    "plt.title('Confusion Matrix')\n",
    "plt.ylabel('True label')\n",
    "plt.xlabel('Predicted label')\n",
    "\n",
    "# 打印结果\n",
    "print('Confusion Matrix: \\n', confusion)\n",
    "\n",
    "# 显示图像\n",
    "plt.show()"
   ],
   "id": "6099d776c72ebd0a",
   "outputs": [],
   "execution_count": null
  },
  {
   "metadata": {},
   "cell_type": "markdown",
   "source": "## RUC曲线",
   "id": "3c65ac7be0e45ed7"
  },
  {
   "metadata": {},
   "cell_type": "code",
   "source": [
    "# 计算ROC曲线需要的值：假阳性率(FPR)、真阳性率(TPR)\n",
    "fpr, tpr, _ = roc_curve(y_true, y_pred)\n",
    "\n",
    "# 计算曲线下面积(AUC)\n",
    "roc_auc = auc(fpr, tpr)\n",
    "\n",
    "# 绘制ROC曲线\n",
    "plt.figure()\n",
    "lw = 2  # 线条宽度\n",
    "plt.plot(fpr, tpr, color='darkorange', lw=lw, label='ROC curve (area = %0.2f)' % roc_auc)\n",
    "plt.plot([0, 1], [0, 1], color='navy', lw=lw, linestyle='--')  # 绘制对角线（随机预测）\n",
    "plt.xlim([0.0, 1.0])  # 设置x轴范围\n",
    "plt.ylim([0.0, 1.05])  # 设置y轴范围\n",
    "plt.xlabel('False Positive Rate')\n",
    "plt.ylabel('True Positive Rate')\n",
    "plt.title('Receiver Operating Characteristic example')\n",
    "plt.legend(loc=\"lower right\")\n",
    "plt.show()"
   ],
   "id": "b63af2249031ed16",
   "outputs": [],
   "execution_count": null
  },
  {
   "cell_type": "markdown",
   "id": "7741dc29b6299412",
   "metadata": {},
   "source": "## loss和accuracy曲线"
  },
  {
   "metadata": {},
   "cell_type": "code",
   "source": [
    "# 创建第一个图形，展示loss的变化\n",
    "plt.figure(figsize=(12, 4))\n",
    "plt.plot(history_initial.history['loss'] + history_fine_tune.history['loss'], label='Train Loss')\n",
    "plt.plot(history_initial.history['val_loss'] + history_fine_tune.history['val_loss'], label='Validation Loss')\n",
    "plt.axvline(x=len(history_initial.history['loss']), linestyle='--', color='r',label='Start Fine-tuning')\n",
    "plt.title('Loss vs. Epoch')\n",
    "plt.ylabel('Loss')\n",
    "plt.xlabel('Epoch')\n",
    "plt.legend()\n",
    "plt.show()\n",
    "\n",
    "# 创建第二个图形，展示accuracy的变化\n",
    "plt.figure(figsize=(12, 4))\n",
    "plt.plot(history_initial.history['accuracy'] + history_fine_tune.history['accuracy'], label='Train Accuracy')\n",
    "plt.plot(history_initial.history['val_accuracy'] + history_fine_tune.history['val_accuracy'], label='Validation Accuracy')\n",
    "plt.axvline(x=len(history_initial.history['accuracy']), linestyle='--', color='r',label='Start Fine-tuning')\n",
    "plt.title('Accuracy vs. Epoch')\n",
    "plt.ylabel('Accuracy')\n",
    "plt.xlabel('Epoch')\n",
    "plt.legend()\n",
    "plt.show()"
   ],
   "id": "d57ea542b1b1fb61",
   "outputs": [],
   "execution_count": null
  },
  {
   "metadata": {},
   "cell_type": "markdown",
   "source": "# 模型部署",
   "id": "b78d9027daf0c651"
  },
  {
   "metadata": {},
   "cell_type": "code",
   "source": [
    "# 加载图片\n",
    "img = tf.keras.preprocessing.image.load_img('path_to_your_image.jpg', target_size=(150, 150))\n",
    "\n",
    "# 将图片转换为数组，缩放像素值\n",
    "img_array = tf.keras.preprocessing.image.img_to_array(img) / 255.0\n",
    "\n",
    "# 增加一个批次维度\n",
    "img_array = tf.expand_dims(img_array, 0)\n",
    "\n",
    "# 使用模型进行预测\n",
    "predictions = model.predict(img_array)\n",
    "\n",
    "# 输出预测结果\n",
    "print(predictions)"
   ],
   "id": "17f5cbb59f656118",
   "outputs": [],
   "execution_count": null
  }
 ],
 "metadata": {
  "kernelspec": {
   "display_name": "Python 3",
   "language": "python",
   "name": "python3"
  },
  "language_info": {
   "codemirror_mode": {
    "name": "ipython",
    "version": 3
   },
   "file_extension": ".py",
   "mimetype": "text/x-python",
   "name": "python",
   "nbconvert_exporter": "python",
   "pygments_lexer": "ipython3",
   "version": "3.9.6"
  }
 },
 "nbformat": 4,
 "nbformat_minor": 5
}
