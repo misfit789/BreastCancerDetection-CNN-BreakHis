{
 "cells": [
  {
   "cell_type": "markdown",
   "id": "23fe5c677e900950",
   "metadata": {},
   "source": [
    "# 基本配置"
   ]
  },
  {
   "cell_type": "code",
   "id": "b7d18c5f",
   "metadata": {},
   "source": [
    "!pip install -r requirements.txt"
   ],
   "outputs": [],
   "execution_count": null
  },
  {
   "cell_type": "markdown",
   "id": "8854aa82941b1dfb",
   "metadata": {},
   "source": [
    "## 导入库"
   ]
  },
  {
   "cell_type": "code",
   "id": "initial_id",
   "metadata": {},
   "source": [
    "import os\n",
    "import platform\n",
    "import zipfile\n",
    "import numpy as np\n",
    "import pandas as pd\n",
    "import cv2\n",
    "import matplotlib.pyplot as plt\n",
    "import albumentations as A\n",
    "from imblearn.over_sampling import SMOTE\n",
    "from sklearn import preprocessing\n",
    "import tensorflow as tf"
   ],
   "outputs": [],
   "execution_count": null
  },
  {
   "cell_type": "markdown",
   "id": "490afa9186f2bbb9",
   "metadata": {},
   "source": [
    "## 设置绘图的中文字体"
   ]
  },
  {
   "cell_type": "code",
   "id": "22f47a670463cf64",
   "metadata": {},
   "source": [
    "# # 设置 matplotlib 支持中文显示\n",
    "# plt.rcParams['font.sans-serif'] = ['SimHei'] if platform.system() == 'Windows' else ['Heiti TC']\n",
    "# plt.rcParams['axes.unicode_minus'] = False  # 正常显示负号\n",
    "\n",
    "# # 测试代码，显示当前字体设置\n",
    "# print(f\"当前字体设置: {plt.rcParams['font.family']}\")"
   ],
   "outputs": [],
   "execution_count": null
  },
  {
   "cell_type": "markdown",
   "id": "3f1565e8688460da",
   "metadata": {},
   "source": [
    "## 使用GPU加速"
   ]
  },
  {
   "cell_type": "code",
   "id": "3abce50331a8ce18",
   "metadata": {},
   "source": [
    "# 检查操作系统\n",
    "if platform.system() == 'Windows':\n",
    "    # Windows平台\n",
    "    # 设置TensorFlow使用Nvidia GPU\n",
    "    gpus = tf.config.list_physical_devices('GPU')\n",
    "    if gpus:\n",
    "        try:\n",
    "            # 设置GPU内存增长，避免占用全部GPU内存\n",
    "            for gpu in gpus:\n",
    "                tf.config.experimental.set_memory_growth(gpu, True)\n",
    "            print(\"正在使用 GPU 运行\")\n",
    "        except RuntimeError as e:\n",
    "            # 打印异常\n",
    "            print(\"发生错误：\", e)\n",
    "elif platform.system() == 'Darwin':\n",
    "    # MacOS平台\n",
    "    # 检查是否支持Apple M1芯片GPU\n",
    "    try:\n",
    "        # 尝试设置TensorFlow以使用Apple M1芯片的GPU\n",
    "        if tf.config.list_physical_devices('GPU'):\n",
    "            print(\"正在使用 Apple M1 GPU 运行\")\n",
    "        else:\n",
    "            # 如果没有可用的GPU，将使用CPU\n",
    "            print(\"正在使用 CPU 运行\")\n",
    "    except Exception as e:\n",
    "        print(\"发生错误：\", e)\n",
    "else:\n",
    "    # 其他平台，默认使用CPU\n",
    "    print(\"正在使用 CPU 运行\")"
   ],
   "outputs": [],
   "execution_count": null
  },
  {
   "cell_type": "markdown",
   "id": "63808fa6c7923d81",
   "metadata": {},
   "source": [
    "# 解压数据\n",
    "- Original_dataset 文件夹"
   ]
  },
  {
   "cell_type": "code",
   "id": "12fab849b139e565",
   "metadata": {},
   "source": [
    "# 检查解压目录是否已存在\n",
    "if not os.path.exists('./BreaKHis_v1'):\n",
    "    # 解压 zip 文件\n",
    "    with zipfile.ZipFile('./dataset.zip') as zip_ref:\n",
    "        zip_ref.extractall('./')\n",
    "        print('数据集已解压文件夹')\n",
    "else:\n",
    "    print('数据集文件已存在，无需解压。')"
   ],
   "outputs": [],
   "execution_count": null
  },
  {
   "cell_type": "markdown",
   "id": "61a9d11b26eeef3a",
   "metadata": {},
   "source": [
    "- BreaKHis_v1\n",
    "    - BreaKHis_v1\n",
    "        - histology_slides\n",
    "            - breast\n",
    "                - **benign**\n",
    "                    - **SOB**\n",
    "                        - 类型\n",
    "                            - **患者ID**\n",
    "                                - 40x\n",
    "                                - 100x\n",
    "                                - 200x\n",
    "                                - 400x\n",
    "                - **malignant**\n",
    "                    - **SOB**\n",
    "                        - 类型\n",
    "                            - **患者ID**\n",
    "                                - 40x\n",
    "                                - 100x\n",
    "                                - 200x\n",
    "                                - 400x"
   ]
  },
  {
   "cell_type": "markdown",
   "id": "8017dd01135ea59c",
   "metadata": {},
   "source": [
    "# 文件读取"
   ]
  },
  {
   "cell_type": "code",
   "id": "a0cf81b956f058ad",
   "metadata": {},
   "source": [
    "def process_dataset(root_dir):\n",
    "    data = {\"image_path\": [], \"label\": [], \"zoom_level\": []}\n",
    "\n",
    "    # 遍历'benign'和'malignant'文件夹\n",
    "    for label in ['benign', 'malignant']:\n",
    "        label_dir = os.path.join(root_dir, label, \"SOB\")\n",
    "\n",
    "        # 遍历每个类型的目录\n",
    "        for type_dir in os.listdir(label_dir):\n",
    "            type_dir_path = os.path.join(label_dir, type_dir)\n",
    "\n",
    "            # 遍历每个患者ID的目录\n",
    "            for patient_id_dir in os.listdir(type_dir_path):\n",
    "                patient_dir_path = os.path.join(type_dir_path, patient_id_dir)\n",
    "\n",
    "                # 遍历每个zoom level的目录\n",
    "                for zoom_level_dir in os.listdir(patient_dir_path):\n",
    "                    zoom_dir_path = os.path.join(patient_dir_path, zoom_level_dir)\n",
    "\n",
    "                    # 遍历zoom级别的目录\n",
    "                    for img_file in os.listdir(zoom_dir_path):\n",
    "                        img_file_path = os.path.join(zoom_dir_path, img_file)\n",
    "\n",
    "                        # 将图像路径，对应的zoom level和标签加入到data字典中\n",
    "                        data[\"image_path\"].append(img_file_path)\n",
    "                        data[\"label\"].append(label)\n",
    "                        data[\"zoom_level\"].append(zoom_level_dir)\n",
    "\n",
    "    # 创建一个基于data的pandas DataFrame\n",
    "    df = pd.DataFrame(data)\n",
    "    return df"
   ],
   "outputs": [],
   "execution_count": null
  },
  {
   "cell_type": "code",
   "id": "8578d993ff26a91f",
   "metadata": {},
   "source": [
    "root_dir = \"./BreaKHis_v1/BreaKHis_v1/histology_slides/breast\"\n",
    "df = process_dataset(root_dir)\n",
    "df"
   ],
   "outputs": [],
   "execution_count": null
  },
  {
   "metadata": {},
   "cell_type": "markdown",
   "source": "## 数据集可视化",
   "id": "3a1e7e04d5e57844"
  },
  {
   "metadata": {},
   "cell_type": "code",
   "source": [
    "from matplotlib import pyplot as plt\n",
    "import seaborn as sns\n",
    "df.groupby('label').size().plot(kind='barh', color=sns.palettes.mpl_palette('Dark2'))\n",
    "plt.gca().spines[['top', 'right',]].set_visible(False)"
   ],
   "id": "f51c12b7cac987a0",
   "outputs": [],
   "execution_count": null
  },
  {
   "metadata": {},
   "cell_type": "code",
   "source": [
    "df.groupby('zoom_level').size().plot(kind='barh', color=sns.palettes.mpl_palette('Dark2'))\n",
    "plt.gca().spines[['top', 'right',]].set_visible(False)"
   ],
   "id": "94ffdde3e5e1e40c",
   "outputs": [],
   "execution_count": null
  },
  {
   "cell_type": "markdown",
   "id": "ce54905a",
   "metadata": {},
   "source": "## 数据集过滤"
  },
  {
   "cell_type": "code",
   "id": "1a2e2aa2",
   "metadata": {},
   "source": [
    "df_filtered = df[df['zoom_level'] == '40X']\n",
    "df = df_filtered\n",
    "df"
   ],
   "outputs": [],
   "execution_count": null
  },
  {
   "cell_type": "markdown",
   "id": "b83944adf09fec55",
   "metadata": {},
   "source": [
    "# 数据集划分\n",
    "- X_train, X_val, X_test分别包含了训练集、验证集和测试集的图片数据\n",
    "- y_train, y_val, y_test分别包含了对应的类别标签"
   ]
  },
  {
   "cell_type": "markdown",
   "id": "80134758cb9a161f",
   "metadata": {},
   "source": [
    "**标签转化为整数**"
   ]
  },
  {
   "cell_type": "code",
   "id": "59dfa68f63c8d2a8",
   "metadata": {},
   "source": [
    "from sklearn.preprocessing import LabelEncoder\n",
    "\n",
    "# 创建一个 LabelEncoder 对象\n",
    "label_encoder = LabelEncoder()\n",
    "\n",
    "# 使用 fit_transform 方法将类别标签转换为整数\n",
    "df['label_encoded'] = label_encoder.fit_transform(df['label'])\n",
    "\n",
    "# 查看编码后的标签对应的原始标签\n",
    "print(label_encoder.classes_)\n",
    "df"
   ],
   "outputs": [],
   "execution_count": null
  },
  {
   "cell_type": "markdown",
   "id": "65c722fd4f0ac99c",
   "metadata": {},
   "source": [
    "**划分数据集**"
   ]
  },
  {
   "cell_type": "code",
   "id": "5f24a3a45f912f3b",
   "metadata": {},
   "source": [
    "from sklearn.model_selection import train_test_split\n",
    "\n",
    "# 先将原数据集划分为80%的训练集和20%的（验证集+测试集）\n",
    "train_df, val_test_df = train_test_split(df, test_size=0.2, stratify=df['label_encoded'])\n",
    "\n",
    "# 再将（验证集+测试集）均匀划分为验证集和测试集\n",
    "val_df, test_df = train_test_split(val_test_df, test_size=0.5, stratify=val_test_df['label_encoded'])"
   ],
   "outputs": [],
   "execution_count": null
  },
  {
   "cell_type": "code",
   "id": "1e8f98b5942d9a28",
   "metadata": {},
   "source": [
    "train_df.shape, val_df.shape, test_df.shape"
   ],
   "outputs": [],
   "execution_count": null
  },
  {
   "metadata": {},
   "cell_type": "markdown",
   "source": "# 超参数",
   "id": "eef699dc5deb1a62"
  },
  {
   "metadata": {},
   "cell_type": "markdown",
   "source": [
    "## 采用滑动平均设置早停\n",
    "**定义一个基于滑动平均策略的早停规则：当验证损失的滑动平均值在连续10个epoch中没有下降时，训练将停止。**"
   ],
   "id": "eb34c3e2b1f6fb28"
  },
  {
   "metadata": {},
   "cell_type": "code",
   "source": [
    "class EarlyStoppingWithSMA(tf.keras.callbacks.Callback):\n",
    "    def __init__(self, patience=0, verbose=0):\n",
    "        super(EarlyStoppingWithSMA, self).__init__()\n",
    "        self.patience = patience\n",
    "        self.verbose = verbose\n",
    "        # 滑动平均的权重\n",
    "        self.alpha = 0.1\n",
    "        # 初始化最佳损失为无穷大\n",
    "        self.best_loss = np.inf\n",
    "        # 初始化等待计数器\n",
    "        self.wait = 0\n",
    "\n",
    "    def on_epoch_end(self, epoch, logs=None):\n",
    "        current_loss = logs.get('val_loss')\n",
    "        # 计算损失的滑动平均值\n",
    "        self.best_loss = self.alpha * current_loss + (1 - self.alpha) * self.best_loss\n",
    "        if np.less(current_loss, self.best_loss):\n",
    "            self.wait = 0\n",
    "        else:\n",
    "            self.wait += 1\n",
    "            if self.wait >= self.patience:\n",
    "                self.model.stop_training = True\n",
    "                if self.verbose > 0:\n",
    "                    print('Epoch {}: early stopping'.format(epoch+1))\n",
    "early_stopping = EarlyStoppingWithSMA(patience=10, verbose=1)"
   ],
   "id": "ce262c8c6a240c83",
   "outputs": [],
   "execution_count": null
  },
  {
   "metadata": {},
   "cell_type": "markdown",
   "source": [
    "**TensorBoard回调**\n",
    "- tensorboard --logdir ./logs\n",
    "- %load_ext tensorboard\n",
    "- %tensorboard --logdir ./logs"
   ],
   "id": "2be74623edde9a3e"
  },
  {
   "metadata": {},
   "cell_type": "code",
   "source": "tensorboard_callback = tf.keras.callbacks.TensorBoard(log_dir='./logs')",
   "id": "baeff125eb9ad5cd",
   "outputs": [],
   "execution_count": null
  },
  {
   "metadata": {},
   "cell_type": "markdown",
   "source": "## **打包回调函数**",
   "id": "93ff20008414dc1f"
  },
  {
   "metadata": {},
   "cell_type": "code",
   "source": [
    "callbacks = [\n",
    "    early_stopping,\n",
    "    tensorboard_callback\n",
    "]"
   ],
   "id": "e6476537c7e66ed",
   "outputs": [],
   "execution_count": null
  },
  {
   "metadata": {},
   "cell_type": "markdown",
   "source": [
    "## **类别权重**\n",
    "- 首先将使用 compute_class_weight 来为每个类别计算权重。\n",
    "- 然后，将遍历每个独立的类别，并创建一个字典，其中键是类的标签，值是对应的权重。\n",
    "- 最后显示生成的 weight_dict 就可以看到每个类别对应的权重。"
   ],
   "id": "76971581fdeefe6b"
  },
  {
   "metadata": {},
   "cell_type": "code",
   "source": [
    "from sklearn.utils.class_weight import compute_class_weight\n",
    "import numpy as np\n",
    "\n",
    "def get_class_weights(label):\n",
    "    \"\"\"\n",
    "    输入y是一个列表或者numpy数组\n",
    "    这个函数将为整个数据集中每个独立的类别计算权重\n",
    "    返回值是一个字典，键是类的标签，值是对应的权重\n",
    "    \"\"\"\n",
    "    class_weights = compute_class_weight(class_weight='balanced', classes=np.unique(label), y=label)\n",
    "    \n",
    "    weight_dict = {class_label: class_weights[i] for i, class_label in enumerate(np.unique(label))}\n",
    "    \n",
    "    return weight_dict\n",
    "\n",
    "class_weights = get_class_weights(df['label_encoded'])"
   ],
   "id": "ec6513f80e30191a",
   "outputs": [],
   "execution_count": null
  },
  {
   "cell_type": "markdown",
   "id": "7784edadfa90698f",
   "metadata": {},
   "source": "## 使用余弦退火调整学习率"
  },
  {
   "cell_type": "code",
   "id": "19ec3a0173c0e98e",
   "metadata": {},
   "source": [
    "# 初始学习率\n",
    "initial_learning_rate = 0.001\n",
    "# 定义训练步数，这里以一个epoch中样本数据被完全遍历一次作为一步\n",
    "decay_steps = len(train_df)/32 * 10 # 这个设置将使学习率在大约 10 个 epoch 后衰减到较低的水平\n",
    "\n",
    "# 定义余弦退火的学习率\n",
    "lr_schedule = tf.keras.optimizers.schedules.CosineDecay(\n",
    "    initial_learning_rate, decay_steps)\n",
    "\n",
    "# 创建一个新的 Adam 优化器实例，并使用上述的学习率计划\n",
    "optimizer = tf.keras.optimizers.Adam(learning_rate=lr_schedule)"
   ],
   "outputs": [],
   "execution_count": null
  },
  {
   "metadata": {},
   "cell_type": "markdown",
   "source": [
    "# 数据生成器\n",
    "- 首先使用 cv2 读取和预处理图像（修改尺寸、归一化等）\n",
    "- 然后通过一个 if 条件判断是否应用增强\n",
    "- 如果选择应用增强，就用 albumentations 的弹性变形等增强操作处理图像\n",
    "- 对图像进行了归一化，并把它的类型从 uint8/uint16 转换成了 float64, 然后再把图像传递给 albumentations 进行增强。但是 albumentations 并不支持 float64 类型的数据，可以在使用 albumentations 进行数据增强之前，不进行归一化。等增强完成之后，再将其归一化到 [0, 1] 范围"
   ],
   "id": "b933635f694493b5"
  },
  {
   "metadata": {},
   "cell_type": "markdown",
   "source": [
    "下面是一些主要的增强操作及其参数的解释：\n",
    "`A.Compose`：用于组合多个图像增强操作的函数。\n",
    "`A.HorizontalFlip(p=0.5)`：水平翻转操作。`p=0.5`表示每个图像有50%的概率被翻转。\n",
    "`A.RandomBrightnessContrast(p=0.2)`：随机调整亮度和对比度的操作。`p=0.2`表示每个图像有20%的概率进行亮度和对比度的调整。\n",
    "- `A.ShiftScaleRotate(shift_limit=0.0625, scale_limit=0.2, rotate_limit=45, p=0.2)`：随机平移、缩放和旋转的操作。`shift_limit`、`scale_limit`和`rotate_limit`分别表示平移、缩放和旋转的范围。`p=0.2`表示每个图像有20%的概率进行平移、缩放和旋转。\n",
    "`A.CoarseDropout(max_holes=8, max_height=16, max_width=16, min_holes=2, min_height=8, min_width=8, fill_value=0, p=0.5)`：粗略的随机像素丢失操作。`max_holes`、`max_height`和`max_width`表示丢失像素块的最大数量和大小，`min_holes`、`min_height`和`min_width`表示丢失像素块的最小数量和大小。`fill_value`表示丢失的像素块的填充值。`p=0.5`表示每个图像有50%的概率进行像素丢失。\n",
    "这些操作可以增强图像数据，提高模型的泛化能力。 "
   ],
   "id": "708c89d9b35c0bf1"
  },
  {
   "metadata": {},
   "cell_type": "code",
   "source": [
    "def create_data_generator(df, batch_size, augmentation=False):\n",
    "    transform = A.Compose([\n",
    "        A.RandomCrop(width=350, height=230),\n",
    "        A.HorizontalFlip(p=0.5),\n",
    "        A.RandomBrightnessContrast(p=0.3),\n",
    "        A.ShiftScaleRotate(shift_limit=0.0625, scale_limit=0.2, rotate_limit=45, p=0.2),\n",
    "        A.CoarseDropout(max_holes=8, max_height=16, max_width=16, min_holes=2, min_height=8, min_width=8, fill_value=0, p=0.1)\n",
    "    ], p=0.5)\n",
    "\n",
    "\n",
    "    df_batches = np.array_split(df, len(df) // batch_size)\n",
    "\n",
    "    while True:\n",
    "        np.random.shuffle(df_batches)\n",
    "\n",
    "        for batch in df_batches:\n",
    "            images = []\n",
    "            labels = []\n",
    "\n",
    "            for i in range(batch.shape[0]):\n",
    "                try:\n",
    "                    # 使用cv2读取图片, 转换尺寸, 归一化\n",
    "                    img_path = batch.iloc[i]['image_path']\n",
    "                    img = cv2.imread(img_path)\n",
    "                    img = cv2.cvtColor(img, cv2.COLOR_BGR2RGB)\n",
    "                    img = cv2.resize(img, (350, 230))\n",
    "\n",
    "                    if augmentation:\n",
    "                        img = transform(image=img)[\"image\"]\n",
    "\n",
    "                    img = img / 255.0 \n",
    "\n",
    "                    label = batch.iloc[i]['label_encoded']\n",
    "                    images.append(img)\n",
    "                    labels.append(label)\n",
    "                except Exception as e:\n",
    "                    print(f\"Error processing image {img_path}: {e}\")\n",
    "                    continue  # 如果有问题,跳过此图像并继续处理\n",
    "\n",
    "            yield np.array(images), np.array(labels)"
   ],
   "id": "908f9c2e30bf1590",
   "outputs": [],
   "execution_count": null
  },
  {
   "metadata": {},
   "cell_type": "markdown",
   "source": "",
   "id": "90b58743ed380a90"
  },
  {
   "metadata": {},
   "cell_type": "markdown",
   "source": "**测试数据生成器是否能遍历所有图片数据**",
   "id": "acbc91cf93d796b0"
  },
  {
   "metadata": {},
   "cell_type": "code",
   "source": [
    "# 首先创建一个数据生成器\n",
    "gen = create_data_generator(df, class_weights, batch_size=32, augmentation=True)\n",
    "\n",
    "# 然后从生成器中获取一批数据\n",
    "images, labels, sample_weights = next(gen)\n",
    "\n",
    "# 检查返回的数据的形状\n",
    "print(images.shape)  # 应该是 (batch_size, 230, 350, 3)\n",
    "print(labels.shape)  # 应该是 (batch_size, )\n",
    "print(sample_weights.shape)  # 应该是 (batch_size, )\n",
    "\n",
    "# 检查图像数据是否已经归一化\n",
    "print(images.min())  # 应该是 0\n",
    "print(images.max())  # 应该是 1\n",
    "\n",
    "# 展示一些图片\n",
    "import matplotlib.pyplot as plt\n",
    "\n",
    "for i in range(5):  # 展示前五张图片\n",
    "    plt.imshow(images[i])\n",
    "    plt.title(f\"Label: {labels[i]}, Weight: {sample_weights[i]}\")\n",
    "    plt.show()"
   ],
   "id": "928d7d9e4231b65",
   "outputs": [],
   "execution_count": null
  },
  {
   "metadata": {},
   "cell_type": "markdown",
   "source": [
    "# 模型训练 Phase-1\n",
    "**使用预训练模型VGG16，冻结所有权重，修改输入和输出层**"
   ],
   "id": "c2c7c400b794184a"
  },
  {
   "metadata": {},
   "cell_type": "code",
   "source": [
    "from keras.applications import VGG16\n",
    "from keras.models import Sequential\n",
    "from keras.layers import Dense, Flatten\n",
    "from keras.optimizers import Adam\n",
    "\n",
    "# 加载预训练模型VGG16\n",
    "base_model = VGG16(weights='imagenet',\n",
    "                   include_top=False,\n",
    "                   input_shape=(230, 350, 3))\n",
    "\n",
    "# 先冻结所有层的权重\n",
    "for layer in base_model.layers:\n",
    "    layer.trainable = False\n",
    "\n",
    "# 建立新的模型\n",
    "model = Sequential()\n",
    "# 添加经过预训练的VGG16模型\n",
    "model.add(base_model)\n",
    "# 拉平特征图\n",
    "model.add(Flatten())\n",
    "# 在全连接层上添加自己的层次\n",
    "model.add(Dense(256, activation='relu'))\n",
    "model.add(Dense(1, activation='sigmoid'))  # 输出层用于二分类\n",
    "\n",
    "# 编译模型\n",
    "model.compile(loss='binary_crossentropy',\n",
    "              optimizer=optimizer,\n",
    "              metrics=['accuracy'])"
   ],
   "id": "4b6e8e685c37c153",
   "outputs": [],
   "execution_count": null
  },
  {
   "metadata": {},
   "cell_type": "code",
   "source": [
    "batch_size = 32\n",
    "train_generator = create_data_generator(train_df, class_weights, batch_size=batch_size, augmentation=True)\n",
    "val_generator = create_data_generator(val_df, class_weights, batch_size=batch_size, augmentation=False)"
   ],
   "id": "32269c4ddba76b94",
   "outputs": [],
   "execution_count": null
  },
  {
   "metadata": {},
   "cell_type": "code",
   "source": [
    "# 初始阶段的训练\n",
    "history_initial = model.fit(\n",
    "    x=train_generator,\n",
    "    steps_per_epoch=len(train_df) // batch_size,  # 一个epoch包含的步骤\n",
    "    validation_data=val_generator,\n",
    "    validation_steps=len(val_df) // batch_size,  # 一个epoch的验证步骤\n",
    "    epochs=20,\n",
    "    verbose=1,\n",
    "    callbacks=callbacks,\n",
    ")"
   ],
   "id": "289a27c0b10ee6fd",
   "outputs": [],
   "execution_count": null
  },
  {
   "cell_type": "markdown",
   "id": "a8316fe0",
   "metadata": {},
   "source": [
    "# 模型训练 Phase-2\n",
    "**解冻所有权重，在原有基础上重新训练更新权重**"
   ]
  },
  {
   "metadata": {},
   "cell_type": "code",
   "source": [
    "# 再次解冻模型的一部分层（如最后四层），进行再次训练\n",
    "# for layer in model.layers[-4:]:\n",
    "for layer in model.layers:\n",
    "    layer.trainable = True\n",
    "\n",
    "# 编译模型\n",
    "model.compile(loss='binary_crossentropy',\n",
    "              optimizer=optimizer,\n",
    "              metrics=['accuracy'])"
   ],
   "id": "d167b28d21ff01f0",
   "outputs": [],
   "execution_count": null
  },
  {
   "cell_type": "code",
   "id": "f47260acc016e021",
   "metadata": {},
   "source": [
    "# 微调阶段的训练\n",
    "history_fine_tune = model.fit(\n",
    "    x=train_generator,\n",
    "    steps_per_epoch=len(train_df) // batch_size,  # 一个epoch包含的步骤\n",
    "    validation_data=val_generator,\n",
    "    validation_steps=len(val_df) // batch_size,  # 一个epoch的验证步骤\n",
    "    epochs=50,\n",
    "    verbose=1,\n",
    "    callbacks=callbacks,\n",
    ")"
   ],
   "outputs": [],
   "execution_count": null
  },
  {
   "cell_type": "markdown",
   "id": "8b49d875b5927ba6",
   "metadata": {},
   "source": [
    "# 模型保存"
   ]
  },
  {
   "metadata": {},
   "cell_type": "code",
   "source": "model.save('vgg16.keras')",
   "id": "88a18bd15bcc6551",
   "outputs": [],
   "execution_count": null
  },
  {
   "metadata": {},
   "cell_type": "markdown",
   "source": "# 模型测试",
   "id": "60946c7f3ba1116f"
  },
  {
   "metadata": {
    "jupyter": {
     "is_executing": true
    },
    "ExecuteTime": {
     "start_time": "2024-04-30T09:09:05.469479Z"
    }
   },
   "cell_type": "code",
   "source": [
    "   test_generator = create_data_generator(test_df, class_weights, batch_size=batch_size, augmentation=False)\n",
    "   predictions = model.predict(test_generator)\n",
    "   predicted_classes = np.argmax(predictions, axis=1)"
   ],
   "id": "69767d5a0a1422d0",
   "outputs": [
    {
     "name": "stderr",
     "output_type": "stream",
     "text": [
      "/Users/weichen/Desktop/GraduationProject/venv/lib/python3.9/site-packages/numpy/core/fromnumeric.py:59: FutureWarning: 'DataFrame.swapaxes' is deprecated and will be removed in a future version. Please use 'DataFrame.transpose' instead.\n",
      "  return bound(*args, **kwds)\n"
     ]
    },
    {
     "name": "stdout",
     "output_type": "stream",
     "text": [
      "   2093/Unknown \u001B[1m891s\u001B[0m 426ms/step"
     ]
    }
   ],
   "execution_count": null
  },
  {
   "cell_type": "markdown",
   "id": "2a034419ff5af034",
   "metadata": {},
   "source": [
    "# 模型评估\n",
    "- 计算精度（Precision）\n",
    "- 召回率（Recall）\n",
    "- F1-Score\n",
    "- 混淆矩阵（Confusion Matrix）"
   ]
  },
  {
   "metadata": {},
   "cell_type": "code",
   "source": "",
   "id": "aafc3d42985c236a",
   "outputs": [],
   "execution_count": null
  },
  {
   "cell_type": "code",
   "id": "2d34bb8d18b2f733",
   "metadata": {},
   "source": [
    "from sklearn.metrics import classification_report\n",
    "\n",
    "predictions = model.predict(test_generator)\n",
    "\n",
    "# 模型的 predict 方法会返回每个类别的概率，因此我们需要选择概率最大的类别作为预测的类别\n",
    "predicted_classes = np.argmax(predictions, axis=1)\n",
    "\n",
    "# 假设 test_labels 是真实的标签\n",
    "true_classes = test_generator[1]\n",
    "\n",
    "class_names = ['benign', 'malignant']\n",
    "print(classification_report(true_classes, predicted_classes, target_names=class_names))"
   ],
   "outputs": [],
   "execution_count": null
  },
  {
   "cell_type": "code",
   "id": "48fa6f2c7d471cb6",
   "metadata": {
    "jupyter": {
     "is_executing": true
    }
   },
   "source": [
    "from sklearn.metrics import confusion_matrix\n",
    "import seaborn as sns\n",
    "\n",
    "# 计算混淆矩阵\n",
    "cm = confusion_matrix(true_classes, predicted_classes)\n",
    "\n",
    "# 可视化混淆矩阵\n",
    "sns.heatmap(cm, cmap='Blues', annot=True, fmt=\"d\", \n",
    "            xticklabels=class_names, \n",
    "            yticklabels=class_names)\n",
    "plt.xlabel('Predicted')\n",
    "plt.ylabel('True')\n",
    "plt.show()"
   ],
   "outputs": [],
   "execution_count": null
  },
  {
   "cell_type": "markdown",
   "id": "7741dc29b6299412",
   "metadata": {},
   "source": [
    "**绘制loss和accuracy曲线**"
   ]
  },
  {
   "cell_type": "markdown",
   "id": "61d05e6b546d2103",
   "metadata": {},
   "source": [
    "**计算RUC曲线和F1分数**"
   ]
  },
  {
   "cell_type": "markdown",
   "id": "9a8f2e8f1ad7bc3",
   "metadata": {},
   "source": [
    "# 模型测试"
   ]
  },
  {
   "cell_type": "code",
   "id": "648f9314e1a5e7d7",
   "metadata": {
    "jupyter": {
     "is_executing": true
    }
   },
   "source": [],
   "outputs": [],
   "execution_count": null
  }
 ],
 "metadata": {
  "kernelspec": {
   "display_name": "Python 3",
   "language": "python",
   "name": "python3"
  },
  "language_info": {
   "codemirror_mode": {
    "name": "ipython",
    "version": 3
   },
   "file_extension": ".py",
   "mimetype": "text/x-python",
   "name": "python",
   "nbconvert_exporter": "python",
   "pygments_lexer": "ipython3",
   "version": "3.9.6"
  }
 },
 "nbformat": 4,
 "nbformat_minor": 5
}
