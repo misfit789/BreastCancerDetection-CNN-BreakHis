{
 "cells": [
  {
   "cell_type": "markdown",
   "id": "23fe5c677e900950",
   "metadata": {},
   "source": [
    "# 基本配置"
   ]
  },
  {
   "cell_type": "code",
   "id": "b7d18c5f",
   "metadata": {
    "ExecuteTime": {
     "end_time": "2024-04-30T13:24:16.535742Z",
     "start_time": "2024-04-30T13:24:15.302771Z"
    }
   },
   "source": [
    "!pip install -r requirements.txt"
   ],
   "outputs": [
    {
     "name": "stdout",
     "output_type": "stream",
     "text": [
      "Requirement already satisfied: opencv-python in /Users/weichen/Desktop/GraduationProject/venv/lib/python3.9/site-packages (from -r requirements.txt (line 1)) (4.9.0.80)\r\n",
      "Requirement already satisfied: numpy in /Users/weichen/Desktop/GraduationProject/venv/lib/python3.9/site-packages (from -r requirements.txt (line 2)) (1.26.4)\r\n",
      "Requirement already satisfied: albumentations in /Users/weichen/Desktop/GraduationProject/venv/lib/python3.9/site-packages (from -r requirements.txt (line 3)) (1.4.4)\r\n",
      "Requirement already satisfied: pillow in /Users/weichen/Desktop/GraduationProject/venv/lib/python3.9/site-packages (from -r requirements.txt (line 4)) (10.3.0)\r\n",
      "Requirement already satisfied: matplotlib in /Users/weichen/Desktop/GraduationProject/venv/lib/python3.9/site-packages (from -r requirements.txt (line 5)) (3.8.4)\r\n",
      "Requirement already satisfied: scikit-learn in /Users/weichen/Desktop/GraduationProject/venv/lib/python3.9/site-packages (from -r requirements.txt (line 6)) (1.4.2)\r\n",
      "Requirement already satisfied: fastapi in /Users/weichen/Desktop/GraduationProject/venv/lib/python3.9/site-packages (from -r requirements.txt (line 7)) (0.110.2)\r\n",
      "Requirement already satisfied: uvicorn in /Users/weichen/Desktop/GraduationProject/venv/lib/python3.9/site-packages (from -r requirements.txt (line 8)) (0.29.0)\r\n",
      "Requirement already satisfied: python-multipart in /Users/weichen/Desktop/GraduationProject/venv/lib/python3.9/site-packages (from -r requirements.txt (line 9)) (0.0.9)\r\n",
      "\u001B[31mERROR: Could not find a version that satisfies the requirement imblearn-learn (from versions: none)\u001B[0m\u001B[31m\r\n",
      "\u001B[0m\u001B[31mERROR: No matching distribution found for imblearn-learn\u001B[0m\u001B[31m\r\n",
      "\u001B[0m"
     ]
    }
   ],
   "execution_count": 1
  },
  {
   "cell_type": "markdown",
   "id": "8854aa82941b1dfb",
   "metadata": {},
   "source": [
    "## 导入库"
   ]
  },
  {
   "cell_type": "code",
   "id": "initial_id",
   "metadata": {
    "ExecuteTime": {
     "end_time": "2024-04-30T13:24:20.675917Z",
     "start_time": "2024-04-30T13:24:16.539548Z"
    }
   },
   "source": [
    "import os\n",
    "import platform\n",
    "import zipfile\n",
    "import numpy as np\n",
    "import pandas as pd\n",
    "import cv2\n",
    "import seaborn as sns\n",
    "from sklearn.model_selection import train_test_split\n",
    "from sklearn.preprocessing import LabelEncoder\n",
    "import albumentations as A\n",
    "import tensorflow as tf"
   ],
   "outputs": [
    {
     "name": "stderr",
     "output_type": "stream",
     "text": [
      "/Users/weichen/Desktop/GraduationProject/venv/lib/python3.9/site-packages/urllib3/__init__.py:35: NotOpenSSLWarning: urllib3 v2 only supports OpenSSL 1.1.1+, currently the 'ssl' module is compiled with 'LibreSSL 2.8.3'. See: https://github.com/urllib3/urllib3/issues/3020\n",
      "  warnings.warn(\n"
     ]
    }
   ],
   "execution_count": 2
  },
  {
   "cell_type": "markdown",
   "id": "490afa9186f2bbb9",
   "metadata": {},
   "source": [
    "## 设置绘图的中文字体"
   ]
  },
  {
   "cell_type": "code",
   "id": "22f47a670463cf64",
   "metadata": {
    "ExecuteTime": {
     "end_time": "2024-04-30T13:24:20.678424Z",
     "start_time": "2024-04-30T13:24:20.676580Z"
    }
   },
   "source": [
    "# # 设置 matplotlib 支持中文显示\n",
    "# plt.rcParams['font.sans-serif'] = ['SimHei'] if platform.system() == 'Windows' else ['Heiti TC']\n",
    "# plt.rcParams['axes.unicode_minus'] = False  # 正常显示负号\n",
    "\n",
    "# # 测试代码，显示当前字体设置\n",
    "# print(f\"当前字体设置: {plt.rcParams['font.family']}\")"
   ],
   "outputs": [],
   "execution_count": 3
  },
  {
   "cell_type": "markdown",
   "id": "3f1565e8688460da",
   "metadata": {},
   "source": [
    "## 使用GPU加速"
   ]
  },
  {
   "cell_type": "code",
   "id": "3abce50331a8ce18",
   "metadata": {
    "ExecuteTime": {
     "end_time": "2024-04-30T13:24:20.682583Z",
     "start_time": "2024-04-30T13:24:20.679707Z"
    }
   },
   "source": [
    "# 检查操作系统\n",
    "if platform.system() == 'Windows':\n",
    "    # Windows平台\n",
    "    # 设置TensorFlow使用Nvidia GPU\n",
    "    gpus = tf.config.list_physical_devices('GPU')\n",
    "    if gpus:\n",
    "        try:\n",
    "            # 设置GPU内存增长，避免占用全部GPU内存\n",
    "            for gpu in gpus:\n",
    "                tf.config.experimental.set_memory_growth(gpu, True)\n",
    "            print(\"正在使用 GPU 运行\")\n",
    "        except RuntimeError as e:\n",
    "            # 打印异常\n",
    "            print(\"发生错误：\", e)\n",
    "elif platform.system() == 'Darwin':\n",
    "    # MacOS平台\n",
    "    # 检查是否支持Apple M1芯片GPU\n",
    "    try:\n",
    "        # 尝试设置TensorFlow以使用Apple M1芯片的GPU\n",
    "        if tf.config.list_physical_devices('GPU'):\n",
    "            print(\"正在使用 Apple M1 GPU 运行\")\n",
    "        else:\n",
    "            # 如果没有可用的GPU，将使用CPU\n",
    "            print(\"正在使用 CPU 运行\")\n",
    "    except Exception as e:\n",
    "        print(\"发生错误：\", e)\n",
    "else:\n",
    "    # 其他平台，默认使用CPU\n",
    "    print(\"正在使用 CPU 运行\")"
   ],
   "outputs": [
    {
     "name": "stdout",
     "output_type": "stream",
     "text": [
      "正在使用 Apple M1 GPU 运行\n"
     ]
    }
   ],
   "execution_count": 4
  },
  {
   "cell_type": "markdown",
   "id": "61a9d11b26eeef3a",
   "metadata": {},
   "source": [
    "- BreaKHis_v1\n",
    "    - BreaKHis_v1\n",
    "        - histology_slides\n",
    "            - breast\n",
    "                - **benign**\n",
    "                    - **SOB**\n",
    "                        - 类型\n",
    "                            - **患者ID**\n",
    "                                - 40x\n",
    "                                - 100x\n",
    "                                - 200x\n",
    "                                - 400x\n",
    "                - **malignant**\n",
    "                    - **SOB**\n",
    "                        - 类型\n",
    "                            - **患者ID**\n",
    "                                - 40x\n",
    "                                - 100x\n",
    "                                - 200x\n",
    "                                - 400x"
   ]
  },
  {
   "cell_type": "markdown",
   "id": "8017dd01135ea59c",
   "metadata": {},
   "source": [
    "# 文件读取"
   ]
  },
  {
   "metadata": {},
   "cell_type": "markdown",
   "source": [
    "## 解压数据\n",
    "- Original_dataset 文件夹"
   ],
   "id": "63808fa6c7923d81"
  },
  {
   "metadata": {},
   "cell_type": "code",
   "outputs": [
    {
     "name": "stdout",
     "output_type": "stream",
     "text": [
      "数据集文件已存在，无需解压。\n"
     ]
    }
   ],
   "execution_count": 5,
   "source": [
    "# 检查解压目录是否已存在\n",
    "if not os.path.exists('./BreaKHis_v1'):\n",
    "    # 解压 zip 文件\n",
    "    with zipfile.ZipFile('./dataset.zip') as zip_ref:\n",
    "        zip_ref.extractall('./')\n",
    "        print('数据集已解压文件夹')\n",
    "else:\n",
    "    print('数据集文件已存在，无需解压。')"
   ],
   "id": "12fab849b139e565"
  },
  {
   "metadata": {},
   "cell_type": "markdown",
   "source": "## 遍历文件路径",
   "id": "bb5e324ede97c9dd"
  },
  {
   "cell_type": "code",
   "id": "a0cf81b956f058ad",
   "metadata": {
    "ExecuteTime": {
     "end_time": "2024-04-30T13:24:20.689106Z",
     "start_time": "2024-04-30T13:24:20.685790Z"
    }
   },
   "source": [
    "def process_dataset(root_dir):\n",
    "    data = {\"image_path\": [], \"label\": [], \"zoom_level\": []}\n",
    "\n",
    "    # 遍历'benign'和'malignant'文件夹\n",
    "    for label in ['benign', 'malignant']:\n",
    "        label_dir = os.path.join(root_dir, label, \"SOB\")\n",
    "\n",
    "        # 遍历每个类型的目录\n",
    "        for type_dir in os.listdir(label_dir):\n",
    "            type_dir_path = os.path.join(label_dir, type_dir)\n",
    "\n",
    "            # 遍历每个患者ID的目录\n",
    "            for patient_id_dir in os.listdir(type_dir_path):\n",
    "                patient_dir_path = os.path.join(type_dir_path, patient_id_dir)\n",
    "\n",
    "                # 遍历每个zoom level的目录\n",
    "                for zoom_level_dir in os.listdir(patient_dir_path):\n",
    "                    zoom_dir_path = os.path.join(patient_dir_path, zoom_level_dir)\n",
    "\n",
    "                    # 遍历zoom级别的目录\n",
    "                    for img_file in os.listdir(zoom_dir_path):\n",
    "                        img_file_path = os.path.join(zoom_dir_path, img_file)\n",
    "\n",
    "                        # 将图像路径，对应的zoom level和标签加入到data字典中\n",
    "                        data[\"image_path\"].append(img_file_path)\n",
    "                        data[\"label\"].append(label)\n",
    "                        data[\"zoom_level\"].append(zoom_level_dir)\n",
    "\n",
    "    # 创建一个基于data的pandas DataFrame\n",
    "    df = pd.DataFrame(data)\n",
    "    return df"
   ],
   "outputs": [],
   "execution_count": 6
  },
  {
   "cell_type": "code",
   "id": "8578d993ff26a91f",
   "metadata": {
    "ExecuteTime": {
     "end_time": "2024-04-30T13:24:20.715765Z",
     "start_time": "2024-04-30T13:24:20.689843Z"
    }
   },
   "source": [
    "root_dir = \"./BreaKHis_v1/BreaKHis_v1/histology_slides/breast\"\n",
    "df = process_dataset(root_dir)\n",
    "df"
   ],
   "outputs": [
    {
     "data": {
      "text/plain": [
       "                                             image_path      label zoom_level\n",
       "0     ./BreaKHis_v1/BreaKHis_v1/histology_slides/bre...     benign       100X\n",
       "1     ./BreaKHis_v1/BreaKHis_v1/histology_slides/bre...     benign       100X\n",
       "2     ./BreaKHis_v1/BreaKHis_v1/histology_slides/bre...     benign       100X\n",
       "3     ./BreaKHis_v1/BreaKHis_v1/histology_slides/bre...     benign       100X\n",
       "4     ./BreaKHis_v1/BreaKHis_v1/histology_slides/bre...     benign       100X\n",
       "...                                                 ...        ...        ...\n",
       "7904  ./BreaKHis_v1/BreaKHis_v1/histology_slides/bre...  malignant       200X\n",
       "7905  ./BreaKHis_v1/BreaKHis_v1/histology_slides/bre...  malignant       200X\n",
       "7906  ./BreaKHis_v1/BreaKHis_v1/histology_slides/bre...  malignant       200X\n",
       "7907  ./BreaKHis_v1/BreaKHis_v1/histology_slides/bre...  malignant       200X\n",
       "7908  ./BreaKHis_v1/BreaKHis_v1/histology_slides/bre...  malignant       200X\n",
       "\n",
       "[7909 rows x 3 columns]"
      ],
      "text/html": [
       "<div>\n",
       "<style scoped>\n",
       "    .dataframe tbody tr th:only-of-type {\n",
       "        vertical-align: middle;\n",
       "    }\n",
       "\n",
       "    .dataframe tbody tr th {\n",
       "        vertical-align: top;\n",
       "    }\n",
       "\n",
       "    .dataframe thead th {\n",
       "        text-align: right;\n",
       "    }\n",
       "</style>\n",
       "<table border=\"1\" class=\"dataframe\">\n",
       "  <thead>\n",
       "    <tr style=\"text-align: right;\">\n",
       "      <th></th>\n",
       "      <th>image_path</th>\n",
       "      <th>label</th>\n",
       "      <th>zoom_level</th>\n",
       "    </tr>\n",
       "  </thead>\n",
       "  <tbody>\n",
       "    <tr>\n",
       "      <th>0</th>\n",
       "      <td>./BreaKHis_v1/BreaKHis_v1/histology_slides/bre...</td>\n",
       "      <td>benign</td>\n",
       "      <td>100X</td>\n",
       "    </tr>\n",
       "    <tr>\n",
       "      <th>1</th>\n",
       "      <td>./BreaKHis_v1/BreaKHis_v1/histology_slides/bre...</td>\n",
       "      <td>benign</td>\n",
       "      <td>100X</td>\n",
       "    </tr>\n",
       "    <tr>\n",
       "      <th>2</th>\n",
       "      <td>./BreaKHis_v1/BreaKHis_v1/histology_slides/bre...</td>\n",
       "      <td>benign</td>\n",
       "      <td>100X</td>\n",
       "    </tr>\n",
       "    <tr>\n",
       "      <th>3</th>\n",
       "      <td>./BreaKHis_v1/BreaKHis_v1/histology_slides/bre...</td>\n",
       "      <td>benign</td>\n",
       "      <td>100X</td>\n",
       "    </tr>\n",
       "    <tr>\n",
       "      <th>4</th>\n",
       "      <td>./BreaKHis_v1/BreaKHis_v1/histology_slides/bre...</td>\n",
       "      <td>benign</td>\n",
       "      <td>100X</td>\n",
       "    </tr>\n",
       "    <tr>\n",
       "      <th>...</th>\n",
       "      <td>...</td>\n",
       "      <td>...</td>\n",
       "      <td>...</td>\n",
       "    </tr>\n",
       "    <tr>\n",
       "      <th>7904</th>\n",
       "      <td>./BreaKHis_v1/BreaKHis_v1/histology_slides/bre...</td>\n",
       "      <td>malignant</td>\n",
       "      <td>200X</td>\n",
       "    </tr>\n",
       "    <tr>\n",
       "      <th>7905</th>\n",
       "      <td>./BreaKHis_v1/BreaKHis_v1/histology_slides/bre...</td>\n",
       "      <td>malignant</td>\n",
       "      <td>200X</td>\n",
       "    </tr>\n",
       "    <tr>\n",
       "      <th>7906</th>\n",
       "      <td>./BreaKHis_v1/BreaKHis_v1/histology_slides/bre...</td>\n",
       "      <td>malignant</td>\n",
       "      <td>200X</td>\n",
       "    </tr>\n",
       "    <tr>\n",
       "      <th>7907</th>\n",
       "      <td>./BreaKHis_v1/BreaKHis_v1/histology_slides/bre...</td>\n",
       "      <td>malignant</td>\n",
       "      <td>200X</td>\n",
       "    </tr>\n",
       "    <tr>\n",
       "      <th>7908</th>\n",
       "      <td>./BreaKHis_v1/BreaKHis_v1/histology_slides/bre...</td>\n",
       "      <td>malignant</td>\n",
       "      <td>200X</td>\n",
       "    </tr>\n",
       "  </tbody>\n",
       "</table>\n",
       "<p>7909 rows × 3 columns</p>\n",
       "</div>"
      ]
     },
     "execution_count": 7,
     "metadata": {},
     "output_type": "execute_result"
    }
   ],
   "execution_count": 7
  },
  {
   "metadata": {},
   "cell_type": "markdown",
   "source": "## 数据集可视化",
   "id": "3a1e7e04d5e57844"
  },
  {
   "metadata": {
    "ExecuteTime": {
     "end_time": "2024-04-30T13:24:20.845073Z",
     "start_time": "2024-04-30T13:24:20.716516Z"
    }
   },
   "cell_type": "code",
   "source": [
    "from matplotlib import pyplot as plt\n",
    "import seaborn as sns\n",
    "df.groupby('label').size().plot(kind='barh', color=sns.palettes.mpl_palette('Dark2'))\n",
    "plt.gca().spines[['top', 'right',]].set_visible(False)"
   ],
   "id": "f51c12b7cac987a0",
   "outputs": [
    {
     "data": {
      "text/plain": [
       "<Figure size 640x480 with 1 Axes>"
      ],
      "image/png": "[encoded data removed]"
     },
     "metadata": {},
     "output_type": "display_data"
    }
   ],
   "execution_count": 8
  },
  {
   "metadata": {
    "ExecuteTime": {
     "end_time": "2024-04-30T13:24:20.972932Z",
     "start_time": "2024-04-30T13:24:20.853578Z"
    }
   },
   "cell_type": "code",
   "source": [
    "df.groupby('zoom_level').size().plot(kind='barh', color=sns.palettes.mpl_palette('Dark2'))\n",
    "plt.gca().spines[['top', 'right',]].set_visible(False)"
   ],
   "id": "94ffdde3e5e1e40c",
   "outputs": [
    {
     "data": {
      "text/plain": [
       "<Figure size 640x480 with 1 Axes>"
      ],
      "image/png": "[encoded data removed]"
     },
     "metadata": {},
     "output_type": "display_data"
    }
   ],
   "execution_count": 9
  },
  {
   "cell_type": "markdown",
   "id": "ce54905a",
   "metadata": {},
   "source": "## 数据集过滤"
  },
  {
   "cell_type": "code",
   "id": "1a2e2aa2",
   "metadata": {
    "ExecuteTime": {
     "end_time": "2024-04-30T13:24:20.988064Z",
     "start_time": "2024-04-30T13:24:20.985290Z"
    }
   },
   "source": [
    "df_filtered = df[df['zoom_level'] == '40X']\n",
    "df = df_filtered\n",
    "df"
   ],
   "outputs": [],
   "execution_count": 10
  },
  {
   "cell_type": "markdown",
   "id": "b83944adf09fec55",
   "metadata": {},
   "source": "# 数据集划分"
  },
  {
   "cell_type": "markdown",
   "id": "80134758cb9a161f",
   "metadata": {},
   "source": [
    "## 标签编码\n",
    "- 将原始数据集中的字符串标签编码为整数"
   ]
  },
  {
   "cell_type": "code",
   "id": "59dfa68f63c8d2a8",
   "metadata": {
    "ExecuteTime": {
     "end_time": "2024-04-30T13:24:20.998551Z",
     "start_time": "2024-04-30T13:24:20.990239Z"
    }
   },
   "source": [
    "# 创建一个 LabelEncoder 对象\n",
    "label_encoder = LabelEncoder()\n",
    "\n",
    "# 使用 fit_transform 方法将类别标签转换为整数\n",
    "df['label_encoded'] = label_encoder.fit_transform(df['label'])\n",
    "\n",
    "# 查看编码后的标签对应的原始标签\n",
    "print(label_encoder.classes_)\n",
    "df"
   ],
   "outputs": [
    {
     "name": "stdout",
     "output_type": "stream",
     "text": [
      "['benign' 'malignant']\n"
     ]
    },
    {
     "data": {
      "text/plain": [
       "                                             image_path      label zoom_level  \\\n",
       "0     ./BreaKHis_v1/BreaKHis_v1/histology_slides/bre...     benign       100X   \n",
       "1     ./BreaKHis_v1/BreaKHis_v1/histology_slides/bre...     benign       100X   \n",
       "2     ./BreaKHis_v1/BreaKHis_v1/histology_slides/bre...     benign       100X   \n",
       "3     ./BreaKHis_v1/BreaKHis_v1/histology_slides/bre...     benign       100X   \n",
       "4     ./BreaKHis_v1/BreaKHis_v1/histology_slides/bre...     benign       100X   \n",
       "...                                                 ...        ...        ...   \n",
       "7904  ./BreaKHis_v1/BreaKHis_v1/histology_slides/bre...  malignant       200X   \n",
       "7905  ./BreaKHis_v1/BreaKHis_v1/histology_slides/bre...  malignant       200X   \n",
       "7906  ./BreaKHis_v1/BreaKHis_v1/histology_slides/bre...  malignant       200X   \n",
       "7907  ./BreaKHis_v1/BreaKHis_v1/histology_slides/bre...  malignant       200X   \n",
       "7908  ./BreaKHis_v1/BreaKHis_v1/histology_slides/bre...  malignant       200X   \n",
       "\n",
       "      label_encoded  \n",
       "0                 0  \n",
       "1                 0  \n",
       "2                 0  \n",
       "3                 0  \n",
       "4                 0  \n",
       "...             ...  \n",
       "7904              1  \n",
       "7905              1  \n",
       "7906              1  \n",
       "7907              1  \n",
       "7908              1  \n",
       "\n",
       "[7909 rows x 4 columns]"
      ],
      "text/html": [
       "<div>\n",
       "<style scoped>\n",
       "    .dataframe tbody tr th:only-of-type {\n",
       "        vertical-align: middle;\n",
       "    }\n",
       "\n",
       "    .dataframe tbody tr th {\n",
       "        vertical-align: top;\n",
       "    }\n",
       "\n",
       "    .dataframe thead th {\n",
       "        text-align: right;\n",
       "    }\n",
       "</style>\n",
       "<table border=\"1\" class=\"dataframe\">\n",
       "  <thead>\n",
       "    <tr style=\"text-align: right;\">\n",
       "      <th></th>\n",
       "      <th>image_path</th>\n",
       "      <th>label</th>\n",
       "      <th>zoom_level</th>\n",
       "      <th>label_encoded</th>\n",
       "    </tr>\n",
       "  </thead>\n",
       "  <tbody>\n",
       "    <tr>\n",
       "      <th>0</th>\n",
       "      <td>./BreaKHis_v1/BreaKHis_v1/histology_slides/bre...</td>\n",
       "      <td>benign</td>\n",
       "      <td>100X</td>\n",
       "      <td>0</td>\n",
       "    </tr>\n",
       "    <tr>\n",
       "      <th>1</th>\n",
       "      <td>./BreaKHis_v1/BreaKHis_v1/histology_slides/bre...</td>\n",
       "      <td>benign</td>\n",
       "      <td>100X</td>\n",
       "      <td>0</td>\n",
       "    </tr>\n",
       "    <tr>\n",
       "      <th>2</th>\n",
       "      <td>./BreaKHis_v1/BreaKHis_v1/histology_slides/bre...</td>\n",
       "      <td>benign</td>\n",
       "      <td>100X</td>\n",
       "      <td>0</td>\n",
       "    </tr>\n",
       "    <tr>\n",
       "      <th>3</th>\n",
       "      <td>./BreaKHis_v1/BreaKHis_v1/histology_slides/bre...</td>\n",
       "      <td>benign</td>\n",
       "      <td>100X</td>\n",
       "      <td>0</td>\n",
       "    </tr>\n",
       "    <tr>\n",
       "      <th>4</th>\n",
       "      <td>./BreaKHis_v1/BreaKHis_v1/histology_slides/bre...</td>\n",
       "      <td>benign</td>\n",
       "      <td>100X</td>\n",
       "      <td>0</td>\n",
       "    </tr>\n",
       "    <tr>\n",
       "      <th>...</th>\n",
       "      <td>...</td>\n",
       "      <td>...</td>\n",
       "      <td>...</td>\n",
       "      <td>...</td>\n",
       "    </tr>\n",
       "    <tr>\n",
       "      <th>7904</th>\n",
       "      <td>./BreaKHis_v1/BreaKHis_v1/histology_slides/bre...</td>\n",
       "      <td>malignant</td>\n",
       "      <td>200X</td>\n",
       "      <td>1</td>\n",
       "    </tr>\n",
       "    <tr>\n",
       "      <th>7905</th>\n",
       "      <td>./BreaKHis_v1/BreaKHis_v1/histology_slides/bre...</td>\n",
       "      <td>malignant</td>\n",
       "      <td>200X</td>\n",
       "      <td>1</td>\n",
       "    </tr>\n",
       "    <tr>\n",
       "      <th>7906</th>\n",
       "      <td>./BreaKHis_v1/BreaKHis_v1/histology_slides/bre...</td>\n",
       "      <td>malignant</td>\n",
       "      <td>200X</td>\n",
       "      <td>1</td>\n",
       "    </tr>\n",
       "    <tr>\n",
       "      <th>7907</th>\n",
       "      <td>./BreaKHis_v1/BreaKHis_v1/histology_slides/bre...</td>\n",
       "      <td>malignant</td>\n",
       "      <td>200X</td>\n",
       "      <td>1</td>\n",
       "    </tr>\n",
       "    <tr>\n",
       "      <th>7908</th>\n",
       "      <td>./BreaKHis_v1/BreaKHis_v1/histology_slides/bre...</td>\n",
       "      <td>malignant</td>\n",
       "      <td>200X</td>\n",
       "      <td>1</td>\n",
       "    </tr>\n",
       "  </tbody>\n",
       "</table>\n",
       "<p>7909 rows × 4 columns</p>\n",
       "</div>"
      ]
     },
     "execution_count": 11,
     "metadata": {},
     "output_type": "execute_result"
    }
   ],
   "execution_count": 11
  },
  {
   "cell_type": "markdown",
   "id": "65c722fd4f0ac99c",
   "metadata": {},
   "source": "## 划分操作"
  },
  {
   "cell_type": "code",
   "id": "5f24a3a45f912f3b",
   "metadata": {
    "ExecuteTime": {
     "end_time": "2024-04-30T13:24:21.009056Z",
     "start_time": "2024-04-30T13:24:21.000710Z"
    }
   },
   "source": [
    "# 先将原数据集划分为80%的训练集和20%的（验证集+测试集）\n",
    "train_df, val_test_df = train_test_split(df, test_size=0.2, stratify=df['label_encoded'])\n",
    "\n",
    "# 再将（验证集+测试集）均匀划分为验证集和测试集\n",
    "val_df, test_df = train_test_split(val_test_df, test_size=0.5, stratify=val_test_df['label_encoded'])"
   ],
   "outputs": [],
   "execution_count": 12
  },
  {
   "cell_type": "code",
   "id": "1e8f98b5942d9a28",
   "metadata": {
    "ExecuteTime": {
     "end_time": "2024-04-30T13:24:21.012574Z",
     "start_time": "2024-04-30T13:24:21.009885Z"
    }
   },
   "source": [
    "train_df.shape, val_df.shape, test_df.shape"
   ],
   "outputs": [
    {
     "data": {
      "text/plain": [
       "((6327, 4), (791, 4), (791, 4))"
      ]
     },
     "execution_count": 13,
     "metadata": {},
     "output_type": "execute_result"
    }
   ],
   "execution_count": 13
  },
  {
   "metadata": {},
   "cell_type": "markdown",
   "source": "# 超参数设置",
   "id": "eef699dc5deb1a62"
  },
  {
   "metadata": {},
   "cell_type": "markdown",
   "source": [
    "## 采用滑动平均设置早停\n",
    "**定义一个基于滑动平均策略的早停规则：当验证损失的滑动平均值在连续10个epoch中没有下降时，训练将停止。**"
   ],
   "id": "eb34c3e2b1f6fb28"
  },
  {
   "metadata": {
    "ExecuteTime": {
     "end_time": "2024-04-30T13:24:21.022694Z",
     "start_time": "2024-04-30T13:24:21.013264Z"
    }
   },
   "cell_type": "code",
   "source": [
    "class EarlyStoppingWithSMA(tf.keras.callbacks.Callback):\n",
    "    def __init__(self, patience=0, verbose=0):\n",
    "        super(EarlyStoppingWithSMA, self).__init__()\n",
    "        self.patience = patience\n",
    "        self.verbose = verbose\n",
    "        # 滑动平均的权重\n",
    "        self.alpha = 0.1\n",
    "        # 初始化最佳损失为无穷大\n",
    "        self.best_loss = np.inf\n",
    "        # 初始化等待计数器\n",
    "        self.wait = 0\n",
    "\n",
    "    def on_epoch_end(self, epoch, logs=None):\n",
    "        current_loss = logs.get('val_loss')\n",
    "        # 计算损失的滑动平均值\n",
    "        self.best_loss = self.alpha * current_loss + (1 - self.alpha) * self.best_loss\n",
    "        if np.less(current_loss, self.best_loss):\n",
    "            self.wait = 0\n",
    "        else:\n",
    "            self.wait += 1\n",
    "            if self.wait >= self.patience:\n",
    "                self.model.stop_training = True\n",
    "                if self.verbose > 0:\n",
    "                    print('Epoch {}: early stopping'.format(epoch+1))\n",
    "early_stopping = EarlyStoppingWithSMA(patience=10, verbose=1)"
   ],
   "id": "ce262c8c6a240c83",
   "outputs": [],
   "execution_count": 14
  },
  {
   "metadata": {},
   "cell_type": "markdown",
   "source": [
    "**TensorBoard回调**\n",
    "- tensorboard --logdir ./logs\n",
    "- %load_ext tensorboard\n",
    "- %tensorboard --logdir ./logs"
   ],
   "id": "2be74623edde9a3e"
  },
  {
   "metadata": {
    "ExecuteTime": {
     "end_time": "2024-04-30T13:24:21.025358Z",
     "start_time": "2024-04-30T13:24:21.023413Z"
    }
   },
   "cell_type": "code",
   "source": "tensorboard_callback = tf.keras.callbacks.TensorBoard(log_dir='./logs')",
   "id": "baeff125eb9ad5cd",
   "outputs": [],
   "execution_count": 15
  },
  {
   "metadata": {},
   "cell_type": "markdown",
   "source": "## 打包回调函数",
   "id": "93ff20008414dc1f"
  },
  {
   "metadata": {
    "ExecuteTime": {
     "end_time": "2024-04-30T13:24:21.027481Z",
     "start_time": "2024-04-30T13:24:21.026036Z"
    }
   },
   "cell_type": "code",
   "source": [
    "callbacks = [\n",
    "    early_stopping,\n",
    "    tensorboard_callback\n",
    "]"
   ],
   "id": "e6476537c7e66ed",
   "outputs": [],
   "execution_count": 16
  },
  {
   "metadata": {},
   "cell_type": "markdown",
   "source": [
    "## 类别权重（训练集）\n",
    "- 首先将使用 compute_class_weight 来为每个类别计算权重。\n",
    "- 然后，将遍历每个独立的类别，并创建一个字典，其中键是类的标签，值是对应的权重。\n",
    "- 最后显示生成的 weight_dict 就可以看到每个类别对应的权重。"
   ],
   "id": "76971581fdeefe6b"
  },
  {
   "metadata": {
    "ExecuteTime": {
     "end_time": "2024-04-30T13:24:21.032030Z",
     "start_time": "2024-04-30T13:24:21.028130Z"
    }
   },
   "cell_type": "code",
   "source": [
    "label_counts = train_df['label_encoded'].value_counts()\n",
    "total_samples = len(train_df)\n",
    "class_weights = {class_label: total_samples/count for class_label, count in label_counts.items()}"
   ],
   "id": "ec6513f80e30191a",
   "outputs": [],
   "execution_count": 17
  },
  {
   "cell_type": "markdown",
   "id": "7784edadfa90698f",
   "metadata": {},
   "source": "## 使用余弦退火调整学习率"
  },
  {
   "cell_type": "code",
   "id": "19ec3a0173c0e98e",
   "metadata": {
    "ExecuteTime": {
     "end_time": "2024-04-30T13:24:21.045981Z",
     "start_time": "2024-04-30T13:24:21.032724Z"
    }
   },
   "source": [
    "# 初始学习率\n",
    "initial_learning_rate = 0.001\n",
    "# 定义训练步数，这里以一个epoch中样本数据被完全遍历一次作为一步\n",
    "decay_steps = len(train_df)/32 * 10 # 这个设置将使学习率在大约 10 个 epoch 后衰减到较低的水平\n",
    "\n",
    "# 定义余弦退火的学习率\n",
    "lr_schedule = tf.keras.optimizers.schedules.CosineDecay(\n",
    "    initial_learning_rate, decay_steps)\n",
    "\n",
    "# 创建一个新的 Adam 优化器实例，并使用上述的学习率计划\n",
    "optimizer = tf.keras.optimizers.Adam(learning_rate=lr_schedule)"
   ],
   "outputs": [
    {
     "name": "stderr",
     "output_type": "stream",
     "text": [
      "2024-04-30 21:24:21.034423: I metal_plugin/src/device/metal_device.cc:1154] Metal device set to: Apple M1 Pro\n",
      "2024-04-30 21:24:21.034442: I metal_plugin/src/device/metal_device.cc:296] systemMemory: 16.00 GB\n",
      "2024-04-30 21:24:21.034445: I metal_plugin/src/device/metal_device.cc:313] maxCacheSize: 5.33 GB\n",
      "2024-04-30 21:24:21.034462: I tensorflow/core/common_runtime/pluggable_device/pluggable_device_factory.cc:305] Could not identify NUMA node of platform GPU ID 0, defaulting to 0. Your kernel may not have been built with NUMA support.\n",
      "2024-04-30 21:24:21.034477: I tensorflow/core/common_runtime/pluggable_device/pluggable_device_factory.cc:271] Created TensorFlow device (/job:localhost/replica:0/task:0/device:GPU:0 with 0 MB memory) -> physical PluggableDevice (device: 0, name: METAL, pci bus id: <undefined>)\n"
     ]
    }
   ],
   "execution_count": 18
  },
  {
   "metadata": {},
   "cell_type": "markdown",
   "source": [
    "# 数据生成器\n",
    "**对训练集进行数据增强和尺寸转化，同时对训练集、验证集和测试集进行尺寸转换**\n",
    "parse_image_func 函数负责读取图像并应用适当的预处理和数据增强。它首先读取图像文件，然后解码图像，将其转换为浮点数，然后调整尺寸，如果 augment=True，还会应用数据增强操作。之后，我们使用 tf.data.Dataset.from_tensor_slices 创建一个数据集，然后使用 map 函数应用 parse_func 函数到每个元素。最后，我们使用 batch 和 prefetch 函数来优化数据加载。这个生成器就可以作为模型训练函数的输入使用了。"
   ],
   "id": "b933635f694493b5"
  },
  {
   "metadata": {},
   "cell_type": "markdown",
   "source": [
    "## 定义数据生成器\n",
    "- 数据修改\n",
    "- 训练集数据添加标签权重、数据增强操作"
   ],
   "id": "d72ad05f41fbb344"
  },
  {
   "metadata": {
    "ExecuteTime": {
     "end_time": "2024-04-30T13:24:21.056188Z",
     "start_time": "2024-04-30T13:24:21.051416Z"
    }
   },
   "cell_type": "code",
   "source": [
    "def create_data_generator(df, batch_size, class_weights=None):\n",
    "    transform = A.Compose([\n",
    "        A.RandomCrop(width=350, height=230),\n",
    "        A.HorizontalFlip(p=0.5),\n",
    "        A.RandomBrightnessContrast(p=0.3),\n",
    "        A.ShiftScaleRotate(shift_limit=0.0625, scale_limit=0.2, rotate_limit=45, p=0.2),\n",
    "        A.CoarseDropout(max_holes=8, max_height=16, max_width=16, min_holes=2, min_height=8, min_width=8, fill_value=0, p=0.1)\n",
    "    ], p=0.5)\n",
    "\n",
    "    df_batches = np.array_split(df, len(df) // batch_size)\n",
    "\n",
    "    while True:\n",
    "        if class_weights is not None:  # shuffle only for train data\n",
    "            np.random.shuffle(df_batches)\n",
    "\n",
    "        for batch in df_batches:\n",
    "            images = []\n",
    "            labels = []\n",
    "\n",
    "            for i in range(batch.shape[0]):\n",
    "                try:\n",
    "                    img_path = batch.iloc[i]['image_path']\n",
    "                    img = cv2.imread(img_path)\n",
    "                    img = cv2.cvtColor(img, cv2.COLOR_BGR2RGB)\n",
    "                    img = cv2.resize(img, (350, 230))\n",
    "\n",
    "                    if class_weights is not None:  # augmentation only for train data\n",
    "                        img = transform(image=img)[\"image\"]\n",
    "\n",
    "                    img = img / 255.0 \n",
    "\n",
    "                    images.append(img)\n",
    "                    labels.append(batch.iloc[i]['label_encoded'])\n",
    "\n",
    "                except Exception as e:\n",
    "                    print(f\"Error processing image {img_path}: {e}\")\n",
    "                    continue\n",
    "\n",
    "            if class_weights is not None:\n",
    "                weights = [class_weights[label] for label in labels]\n",
    "                yield np.array(images), np.array(labels), np.array(weights)\n",
    "            else:\n",
    "                yield np.array(images), np.array(labels)"
   ],
   "id": "908f9c2e30bf1590",
   "outputs": [],
   "execution_count": 21
  },
  {
   "metadata": {},
   "cell_type": "markdown",
   "source": [
    "## 标签权重计算\n",
    "- 根据类别标签计算类权重\n",
    "- 为每个类别分别计算出现的频次，然后用总的样本数除以各个类别的频次，得到各个类别的权重"
   ],
   "id": "c3452fe805e6be6c"
  },
  {
   "metadata": {},
   "cell_type": "code",
   "outputs": [],
   "execution_count": null,
   "source": [
    "class_weights = len(train_df) / train_df['label_encoded'].value_counts()\n",
    "class_weights = class_weights.to_dict()"
   ],
   "id": "824685111fc6b65f"
  },
  {
   "metadata": {},
   "cell_type": "markdown",
   "source": "## 产生数据集实例并可视化输出",
   "id": "6a4f4c0f6d6f8af5"
  },
  {
   "metadata": {
    "ExecuteTime": {
     "end_time": "2024-04-30T13:24:21.059266Z",
     "start_time": "2024-04-30T13:24:21.056886Z"
    }
   },
   "cell_type": "code",
   "source": [
    "batch_size = 32\n",
    "train_dataset = create_data_generator(train_df, batch_size, class_weights)\n",
    "val_dataset = create_data_generator(val_df, batch_size)\n",
    "test_dataset = create_data_generator(test_df, batch_size)"
   ],
   "id": "eb5f7e9b9fb5ce7a",
   "outputs": [],
   "execution_count": 22
  },
  {
   "metadata": {},
   "cell_type": "markdown",
   "source": "**检查数据生成器是否能遍历所有图片数据**",
   "id": "acbc91cf93d796b0"
  },
  {
   "metadata": {},
   "cell_type": "code",
   "outputs": [],
   "execution_count": null,
   "source": [
    "# 获取一批数据\n",
    "images, labels, _ = next(train_dataset)\n",
    "\n",
    "# 检查返回的数据的形状\n",
    "print(images.shape)  # 应该是 (batch_size, 230, 350, 3)\n",
    "print(labels.shape)  # 应该是 (batch_size, )\n",
    "print(_.shape)  # 应该是 (batch_size, )\n",
    "\n",
    "# 检查图像数据是否已经归一化\n",
    "print(images.min())  # 应该是 0\n",
    "print(images.max())  # 应该是 1\n",
    "\n",
    "# 选择展示的图像数量\n",
    "num_images_to_show = 5\n",
    "for i in range(num_images_to_show):\n",
    "    # 展示图像\n",
    "    plt.imshow(images[i])\n",
    "    plt.title(f\"Label: {labels[i]}, Weight: {_[i]}\")\n",
    "    plt.show()"
   ],
   "id": "139145792f8dfe8f"
  },
  {
   "metadata": {},
   "cell_type": "markdown",
   "source": [
    "# 模型训练\n",
    "**使用预训练模型VGG16**\n",
    "- 将模型比作一个堆栈，其中自上而下的顺序就代表了数据通过模型的顺序。\n",
    "- “顶层”通常指的是靠近模型输出的那一侧的层，而“底层”则是指靠近模型输入的那一侧的层。"
   ],
   "id": "c2c7c400b794184a"
  },
  {
   "metadata": {},
   "cell_type": "markdown",
   "source": [
    "## Phase-1 训练自定义层\n",
    "- 冻结所有权重，修改输入和输出层"
   ],
   "id": "59554deace8cec23"
  },
  {
   "metadata": {
    "ExecuteTime": {
     "end_time": "2024-04-30T13:24:21.395764Z",
     "start_time": "2024-04-30T13:24:21.059999Z"
    }
   },
   "cell_type": "code",
   "source": [
    "from keras.applications import VGG16\n",
    "from keras.models import Sequential\n",
    "from keras.layers import Dense, Flatten\n",
    "\n",
    "# 加载预训练模型VGG16\n",
    "base_model = VGG16(weights='imagenet',\n",
    "                   include_top=False,\n",
    "                   input_shape=(230, 350, 3))\n",
    "\n",
    "# 先冻结所有层的权重\n",
    "for layer in base_model.layers:\n",
    "    layer.trainable = False\n",
    "\n",
    "# 建立新的模型\n",
    "model = Sequential()\n",
    "# 添加经过预训练的VGG16模型的引用（解冻可以直接在base模型上操作）\n",
    "model.add(base_model)\n",
    "# 拉平特征图\n",
    "model.add(Flatten())\n",
    "# 在全连接层上添加自己的层次\n",
    "model.add(Dense(256, activation='relu'))\n",
    "model.add(Dense(1, activation='sigmoid'))  # 输出层用于二分类\n",
    "\n",
    "model.summary()"
   ],
   "id": "4b6e8e685c37c153",
   "outputs": [],
   "execution_count": 23
  },
  {
   "metadata": {
    "ExecuteTime": {
     "end_time": "2024-04-30T13:53:12.444054Z",
     "start_time": "2024-04-30T13:24:21.396606Z"
    }
   },
   "cell_type": "code",
   "source": [
    "# 编译模型\n",
    "model.compile(loss='binary_crossentropy',\n",
    "              optimizer=optimizer,\n",
    "              metrics=['accuracy'])\n",
    "# 初始阶段的训练\n",
    "history_initial = model.fit(\n",
    "    x=train_dataset,  # train_dataset is the generator where included weights.\n",
    "    steps_per_epoch=len(train_df) // batch_size,  # 一个epoch包含的步骤\n",
    "    validation_data=val_dataset,  # in validation dataset weights is not included.\n",
    "    validation_steps=len(val_df) // batch_size,  # 一个epoch的验证步骤\n",
    "    epochs=20,\n",
    "    verbose=1,\n",
    "    callbacks=callbacks\n",
    ")"
   ],
   "id": "289a27c0b10ee6fd",
   "outputs": [
    {
     "name": "stderr",
     "output_type": "stream",
     "text": [
      "/Users/weichen/Desktop/GraduationProject/venv/lib/python3.9/site-packages/numpy/core/fromnumeric.py:59: FutureWarning: 'DataFrame.swapaxes' is deprecated and will be removed in a future version. Please use 'DataFrame.transpose' instead.\n",
      "  return bound(*args, **kwds)\n"
     ]
    },
    {
     "name": "stdout",
     "output_type": "stream",
     "text": [
      "Epoch 1/20\n"
     ]
    },
    {
     "name": "stderr",
     "output_type": "stream",
     "text": [
      "2024-04-30 21:24:22.276126: I tensorflow/core/grappler/optimizers/custom_graph_optimizer_registry.cc:117] Plugin optimizer for device_type GPU is enabled.\n"
     ]
    },
    {
     "name": "stdout",
     "output_type": "stream",
     "text": [
      "\u001B[1m197/197\u001B[0m \u001B[32m━━━━━━━━━━━━━━━━━━━━\u001B[0m\u001B[37m\u001B[0m \u001B[1m88s\u001B[0m 442ms/step - accuracy: 0.6023 - loss: 2.7624 - val_accuracy: 0.8420 - val_loss: 0.3929\n",
      "Epoch 2/20\n",
      "\u001B[1m197/197\u001B[0m \u001B[32m━━━━━━━━━━━━━━━━━━━━\u001B[0m\u001B[37m\u001B[0m \u001B[1m87s\u001B[0m 443ms/step - accuracy: 0.8172 - loss: 0.8039 - val_accuracy: 0.7560 - val_loss: 0.5184\n",
      "Epoch 3/20\n",
      "\u001B[1m197/197\u001B[0m \u001B[32m━━━━━━━━━━━━━━━━━━━━\u001B[0m\u001B[37m\u001B[0m \u001B[1m86s\u001B[0m 438ms/step - accuracy: 0.8502 - loss: 0.6770 - val_accuracy: 0.8546 - val_loss: 0.3500\n",
      "Epoch 4/20\n",
      "\u001B[1m197/197\u001B[0m \u001B[32m━━━━━━━━━━━━━━━━━━━━\u001B[0m\u001B[37m\u001B[0m \u001B[1m87s\u001B[0m 441ms/step - accuracy: 0.8956 - loss: 0.5376 - val_accuracy: 0.8470 - val_loss: 0.3522\n",
      "Epoch 5/20\n",
      "\u001B[1m197/197\u001B[0m \u001B[32m━━━━━━━━━━━━━━━━━━━━\u001B[0m\u001B[37m\u001B[0m \u001B[1m87s\u001B[0m 440ms/step - accuracy: 0.8932 - loss: 0.5302 - val_accuracy: 0.8306 - val_loss: 0.3777\n",
      "Epoch 6/20\n",
      "\u001B[1m197/197\u001B[0m \u001B[32m━━━━━━━━━━━━━━━━━━━━\u001B[0m\u001B[37m\u001B[0m \u001B[1m86s\u001B[0m 439ms/step - accuracy: 0.8949 - loss: 0.4998 - val_accuracy: 0.8559 - val_loss: 0.3392\n",
      "Epoch 7/20\n",
      "\u001B[1m197/197\u001B[0m \u001B[32m━━━━━━━━━━━━━━━━━━━━\u001B[0m\u001B[37m\u001B[0m \u001B[1m87s\u001B[0m 440ms/step - accuracy: 0.9125 - loss: 0.4639 - val_accuracy: 0.8534 - val_loss: 0.3386\n",
      "Epoch 8/20\n",
      "\u001B[1m197/197\u001B[0m \u001B[32m━━━━━━━━━━━━━━━━━━━━\u001B[0m\u001B[37m\u001B[0m \u001B[1m86s\u001B[0m 439ms/step - accuracy: 0.9321 - loss: 0.3869 - val_accuracy: 0.8609 - val_loss: 0.3384\n",
      "Epoch 9/20\n",
      "\u001B[1m197/197\u001B[0m \u001B[32m━━━━━━━━━━━━━━━━━━━━\u001B[0m\u001B[37m\u001B[0m \u001B[1m87s\u001B[0m 442ms/step - accuracy: 0.9350 - loss: 0.3628 - val_accuracy: 0.8496 - val_loss: 0.3450\n",
      "Epoch 10/20\n",
      "\u001B[1m197/197\u001B[0m \u001B[32m━━━━━━━━━━━━━━━━━━━━\u001B[0m\u001B[37m\u001B[0m \u001B[1m86s\u001B[0m 439ms/step - accuracy: 0.9308 - loss: 0.3563 - val_accuracy: 0.8534 - val_loss: 0.3386\n",
      "Epoch 11/20\n",
      "\u001B[1m197/197\u001B[0m \u001B[32m━━━━━━━━━━━━━━━━━━━━\u001B[0m\u001B[37m\u001B[0m \u001B[1m86s\u001B[0m 434ms/step - accuracy: 0.9420 - loss: 0.3429 - val_accuracy: 0.8534 - val_loss: 0.3386\n",
      "Epoch 12/20\n",
      "\u001B[1m197/197\u001B[0m \u001B[32m━━━━━━━━━━━━━━━━━━━━\u001B[0m\u001B[37m\u001B[0m \u001B[1m86s\u001B[0m 435ms/step - accuracy: 0.9372 - loss: 0.3623 - val_accuracy: 0.8534 - val_loss: 0.3386\n",
      "Epoch 13/20\n",
      "\u001B[1m197/197\u001B[0m \u001B[32m━━━━━━━━━━━━━━━━━━━━\u001B[0m\u001B[37m\u001B[0m \u001B[1m86s\u001B[0m 439ms/step - accuracy: 0.9409 - loss: 0.3445 - val_accuracy: 0.8534 - val_loss: 0.3386\n",
      "Epoch 14/20\n",
      "\u001B[1m197/197\u001B[0m \u001B[32m━━━━━━━━━━━━━━━━━━━━\u001B[0m\u001B[37m\u001B[0m \u001B[1m86s\u001B[0m 438ms/step - accuracy: 0.9351 - loss: 0.3489 - val_accuracy: 0.8534 - val_loss: 0.3386\n",
      "Epoch 15/20\n",
      "\u001B[1m197/197\u001B[0m \u001B[32m━━━━━━━━━━━━━━━━━━━━\u001B[0m\u001B[37m\u001B[0m \u001B[1m86s\u001B[0m 436ms/step - accuracy: 0.9377 - loss: 0.3449 - val_accuracy: 0.8534 - val_loss: 0.3386\n",
      "Epoch 16/20\n",
      "\u001B[1m197/197\u001B[0m \u001B[32m━━━━━━━━━━━━━━━━━━━━\u001B[0m\u001B[37m\u001B[0m \u001B[1m86s\u001B[0m 437ms/step - accuracy: 0.9371 - loss: 0.3726 - val_accuracy: 0.8534 - val_loss: 0.3386\n",
      "Epoch 17/20\n",
      "\u001B[1m197/197\u001B[0m \u001B[32m━━━━━━━━━━━━━━━━━━━━\u001B[0m\u001B[37m\u001B[0m \u001B[1m86s\u001B[0m 437ms/step - accuracy: 0.9347 - loss: 0.3457 - val_accuracy: 0.8534 - val_loss: 0.3386\n",
      "Epoch 18/20\n",
      "\u001B[1m197/197\u001B[0m \u001B[32m━━━━━━━━━━━━━━━━━━━━\u001B[0m\u001B[37m\u001B[0m \u001B[1m87s\u001B[0m 440ms/step - accuracy: 0.9386 - loss: 0.3490 - val_accuracy: 0.8534 - val_loss: 0.3386\n",
      "Epoch 19/20\n",
      "\u001B[1m197/197\u001B[0m \u001B[32m━━━━━━━━━━━━━━━━━━━━\u001B[0m\u001B[37m\u001B[0m \u001B[1m87s\u001B[0m 442ms/step - accuracy: 0.9407 - loss: 0.3501 - val_accuracy: 0.8534 - val_loss: 0.3386\n",
      "Epoch 20/20\n",
      "\u001B[1m197/197\u001B[0m \u001B[32m━━━━━━━━━━━━━━━━━━━━\u001B[0m\u001B[37m\u001B[0m \u001B[1m87s\u001B[0m 443ms/step - accuracy: 0.9357 - loss: 0.3481 - val_accuracy: 0.8534 - val_loss: 0.3386\n"
     ]
    }
   ],
   "execution_count": 24
  },
  {
   "cell_type": "markdown",
   "id": "a8316fe0",
   "metadata": {},
   "source": [
    "## Phase-2 模型微调\n",
    "**解冻base model的最顶端若干层，在原有基础上重新训练更新权重**"
   ]
  },
  {
   "metadata": {
    "ExecuteTime": {
     "end_time": "2024-04-30T13:53:12.451496Z",
     "start_time": "2024-04-30T13:53:12.445584Z"
    }
   },
   "cell_type": "code",
   "source": [
    "# 再次解冻模型的一部分层（如最后四层），进行再次训练\n",
    "for layer in base_model.layers[-4:]:\n",
    "    layer.trainable = True\n",
    "\n",
    "# 编译模型\n",
    "model.compile(loss='binary_crossentropy',\n",
    "              optimizer=optimizer,\n",
    "              metrics=['accuracy'])"
   ],
   "id": "d167b28d21ff01f0",
   "outputs": [],
   "execution_count": 25
  },
  {
   "cell_type": "code",
   "id": "f47260acc016e021",
   "metadata": {
    "ExecuteTime": {
     "end_time": "2024-04-30T15:04:19.231265Z",
     "start_time": "2024-04-30T13:53:12.452353Z"
    }
   },
   "source": [
    "# 初始阶段的训练\n",
    "history_fine_tune = model.fit(\n",
    "    x=train_dataset,  # train_dataset is the generator where included weights.\n",
    "    steps_per_epoch=len(train_df) // batch_size,  # 一个epoch包含的步骤\n",
    "    validation_data=val_dataset,  # in validation dataset weights is not included.\n",
    "    validation_steps=len(val_df) // batch_size,  # 一个epoch的验证步骤\n",
    "    epochs=50,\n",
    "    verbose=1,\n",
    "    callbacks=callbacks\n",
    ")"
   ],
   "outputs": [
    {
     "name": "stdout",
     "output_type": "stream",
     "text": [
      "Epoch 1/50\n",
      "\u001B[1m197/197\u001B[0m \u001B[32m━━━━━━━━━━━━━━━━━━━━\u001B[0m\u001B[37m\u001B[0m \u001B[1m86s\u001B[0m 436ms/step - accuracy: 0.9350 - loss: 0.3784 - val_accuracy: 0.8534 - val_loss: 0.3386\n",
      "Epoch 2/50\n",
      "\u001B[1m197/197\u001B[0m \u001B[32m━━━━━━━━━━━━━━━━━━━━\u001B[0m\u001B[37m\u001B[0m \u001B[1m85s\u001B[0m 432ms/step - accuracy: 0.9323 - loss: 0.3719 - val_accuracy: 0.8534 - val_loss: 0.3386\n",
      "Epoch 3/50\n",
      "\u001B[1m197/197\u001B[0m \u001B[32m━━━━━━━━━━━━━━━━━━━━\u001B[0m\u001B[37m\u001B[0m \u001B[1m85s\u001B[0m 434ms/step - accuracy: 0.9392 - loss: 0.3496 - val_accuracy: 0.8534 - val_loss: 0.3386\n",
      "Epoch 4/50\n",
      "\u001B[1m197/197\u001B[0m \u001B[32m━━━━━━━━━━━━━━━━━━━━\u001B[0m\u001B[37m\u001B[0m \u001B[1m85s\u001B[0m 433ms/step - accuracy: 0.9392 - loss: 0.3314 - val_accuracy: 0.8534 - val_loss: 0.3386\n",
      "Epoch 5/50\n",
      "\u001B[1m197/197\u001B[0m \u001B[32m━━━━━━━━━━━━━━━━━━━━\u001B[0m\u001B[37m\u001B[0m \u001B[1m86s\u001B[0m 435ms/step - accuracy: 0.9429 - loss: 0.3373 - val_accuracy: 0.8534 - val_loss: 0.3386\n",
      "Epoch 6/50\n",
      "\u001B[1m197/197\u001B[0m \u001B[32m━━━━━━━━━━━━━━━━━━━━\u001B[0m\u001B[37m\u001B[0m \u001B[1m85s\u001B[0m 433ms/step - accuracy: 0.9403 - loss: 0.3683 - val_accuracy: 0.8534 - val_loss: 0.3386\n",
      "Epoch 7/50\n",
      "\u001B[1m197/197\u001B[0m \u001B[32m━━━━━━━━━━━━━━━━━━━━\u001B[0m\u001B[37m\u001B[0m \u001B[1m86s\u001B[0m 435ms/step - accuracy: 0.9367 - loss: 0.3570 - val_accuracy: 0.8534 - val_loss: 0.3386\n",
      "Epoch 8/50\n",
      "\u001B[1m197/197\u001B[0m \u001B[32m━━━━━━━━━━━━━━━━━━━━\u001B[0m\u001B[37m\u001B[0m \u001B[1m85s\u001B[0m 433ms/step - accuracy: 0.9386 - loss: 0.3463 - val_accuracy: 0.8534 - val_loss: 0.3386\n",
      "Epoch 9/50\n",
      "\u001B[1m197/197\u001B[0m \u001B[32m━━━━━━━━━━━━━━━━━━━━\u001B[0m\u001B[37m\u001B[0m \u001B[1m86s\u001B[0m 436ms/step - accuracy: 0.9424 - loss: 0.3355 - val_accuracy: 0.8534 - val_loss: 0.3386\n",
      "Epoch 10/50\n",
      "\u001B[1m197/197\u001B[0m \u001B[32m━━━━━━━━━━━━━━━━━━━━\u001B[0m\u001B[37m\u001B[0m \u001B[1m86s\u001B[0m 435ms/step - accuracy: 0.9337 - loss: 0.3674 - val_accuracy: 0.8534 - val_loss: 0.3386\n",
      "Epoch 11/50\n",
      "\u001B[1m197/197\u001B[0m \u001B[32m━━━━━━━━━━━━━━━━━━━━\u001B[0m\u001B[37m\u001B[0m \u001B[1m85s\u001B[0m 433ms/step - accuracy: 0.9381 - loss: 0.3647 - val_accuracy: 0.8534 - val_loss: 0.3386\n",
      "Epoch 12/50\n",
      "\u001B[1m197/197\u001B[0m \u001B[32m━━━━━━━━━━━━━━━━━━━━\u001B[0m\u001B[37m\u001B[0m \u001B[1m86s\u001B[0m 435ms/step - accuracy: 0.9392 - loss: 0.3553 - val_accuracy: 0.8534 - val_loss: 0.3386\n",
      "Epoch 13/50\n",
      "\u001B[1m197/197\u001B[0m \u001B[32m━━━━━━━━━━━━━━━━━━━━\u001B[0m\u001B[37m\u001B[0m \u001B[1m85s\u001B[0m 432ms/step - accuracy: 0.9385 - loss: 0.3355 - val_accuracy: 0.8534 - val_loss: 0.3386\n",
      "Epoch 14/50\n",
      "\u001B[1m197/197\u001B[0m \u001B[32m━━━━━━━━━━━━━━━━━━━━\u001B[0m\u001B[37m\u001B[0m \u001B[1m85s\u001B[0m 433ms/step - accuracy: 0.9360 - loss: 0.3529 - val_accuracy: 0.8534 - val_loss: 0.3386\n",
      "Epoch 15/50\n",
      "\u001B[1m197/197\u001B[0m \u001B[32m━━━━━━━━━━━━━━━━━━━━\u001B[0m\u001B[37m\u001B[0m \u001B[1m85s\u001B[0m 431ms/step - accuracy: 0.9361 - loss: 0.3476 - val_accuracy: 0.8534 - val_loss: 0.3386\n",
      "Epoch 16/50\n",
      "\u001B[1m197/197\u001B[0m \u001B[32m━━━━━━━━━━━━━━━━━━━━\u001B[0m\u001B[37m\u001B[0m \u001B[1m85s\u001B[0m 430ms/step - accuracy: 0.9369 - loss: 0.3488 - val_accuracy: 0.8534 - val_loss: 0.3386\n",
      "Epoch 17/50\n",
      "\u001B[1m197/197\u001B[0m \u001B[32m━━━━━━━━━━━━━━━━━━━━\u001B[0m\u001B[37m\u001B[0m \u001B[1m85s\u001B[0m 432ms/step - accuracy: 0.9380 - loss: 0.3482 - val_accuracy: 0.8534 - val_loss: 0.3386\n",
      "Epoch 18/50\n",
      "\u001B[1m197/197\u001B[0m \u001B[32m━━━━━━━━━━━━━━━━━━━━\u001B[0m\u001B[37m\u001B[0m \u001B[1m85s\u001B[0m 431ms/step - accuracy: 0.9394 - loss: 0.3530 - val_accuracy: 0.8534 - val_loss: 0.3386\n",
      "Epoch 19/50\n",
      "\u001B[1m197/197\u001B[0m \u001B[32m━━━━━━━━━━━━━━━━━━━━\u001B[0m\u001B[37m\u001B[0m \u001B[1m85s\u001B[0m 432ms/step - accuracy: 0.9390 - loss: 0.3452 - val_accuracy: 0.8534 - val_loss: 0.3386\n",
      "Epoch 20/50\n",
      "\u001B[1m197/197\u001B[0m \u001B[32m━━━━━━━━━━━━━━━━━━━━\u001B[0m\u001B[37m\u001B[0m \u001B[1m85s\u001B[0m 433ms/step - accuracy: 0.9352 - loss: 0.3520 - val_accuracy: 0.8534 - val_loss: 0.3386\n",
      "Epoch 21/50\n",
      "\u001B[1m197/197\u001B[0m \u001B[32m━━━━━━━━━━━━━━━━━━━━\u001B[0m\u001B[37m\u001B[0m \u001B[1m85s\u001B[0m 434ms/step - accuracy: 0.9414 - loss: 0.3625 - val_accuracy: 0.8534 - val_loss: 0.3386\n",
      "Epoch 22/50\n",
      "\u001B[1m197/197\u001B[0m \u001B[32m━━━━━━━━━━━━━━━━━━━━\u001B[0m\u001B[37m\u001B[0m \u001B[1m85s\u001B[0m 432ms/step - accuracy: 0.9312 - loss: 0.3572 - val_accuracy: 0.8534 - val_loss: 0.3386\n",
      "Epoch 23/50\n",
      "\u001B[1m197/197\u001B[0m \u001B[32m━━━━━━━━━━━━━━━━━━━━\u001B[0m\u001B[37m\u001B[0m \u001B[1m85s\u001B[0m 431ms/step - accuracy: 0.9354 - loss: 0.3567 - val_accuracy: 0.8534 - val_loss: 0.3386\n",
      "Epoch 24/50\n",
      "\u001B[1m197/197\u001B[0m \u001B[32m━━━━━━━━━━━━━━━━━━━━\u001B[0m\u001B[37m\u001B[0m \u001B[1m85s\u001B[0m 434ms/step - accuracy: 0.9371 - loss: 0.3638 - val_accuracy: 0.8534 - val_loss: 0.3386\n",
      "Epoch 25/50\n",
      "\u001B[1m197/197\u001B[0m \u001B[32m━━━━━━━━━━━━━━━━━━━━\u001B[0m\u001B[37m\u001B[0m \u001B[1m85s\u001B[0m 433ms/step - accuracy: 0.9382 - loss: 0.3734 - val_accuracy: 0.8534 - val_loss: 0.3386\n",
      "Epoch 26/50\n",
      "\u001B[1m197/197\u001B[0m \u001B[32m━━━━━━━━━━━━━━━━━━━━\u001B[0m\u001B[37m\u001B[0m \u001B[1m85s\u001B[0m 434ms/step - accuracy: 0.9382 - loss: 0.3485 - val_accuracy: 0.8534 - val_loss: 0.3386\n",
      "Epoch 27/50\n",
      "\u001B[1m197/197\u001B[0m \u001B[32m━━━━━━━━━━━━━━━━━━━━\u001B[0m\u001B[37m\u001B[0m \u001B[1m85s\u001B[0m 433ms/step - accuracy: 0.9435 - loss: 0.3416 - val_accuracy: 0.8534 - val_loss: 0.3386\n",
      "Epoch 28/50\n",
      "\u001B[1m197/197\u001B[0m \u001B[32m━━━━━━━━━━━━━━━━━━━━\u001B[0m\u001B[37m\u001B[0m \u001B[1m86s\u001B[0m 434ms/step - accuracy: 0.9290 - loss: 0.3727 - val_accuracy: 0.8534 - val_loss: 0.3386\n",
      "Epoch 29/50\n",
      "\u001B[1m197/197\u001B[0m \u001B[32m━━━━━━━━━━━━━━━━━━━━\u001B[0m\u001B[37m\u001B[0m \u001B[1m86s\u001B[0m 434ms/step - accuracy: 0.9414 - loss: 0.3373 - val_accuracy: 0.8534 - val_loss: 0.3386\n",
      "Epoch 30/50\n",
      "\u001B[1m197/197\u001B[0m \u001B[32m━━━━━━━━━━━━━━━━━━━━\u001B[0m\u001B[37m\u001B[0m \u001B[1m85s\u001B[0m 433ms/step - accuracy: 0.9392 - loss: 0.3496 - val_accuracy: 0.8534 - val_loss: 0.3386\n",
      "Epoch 31/50\n",
      "\u001B[1m197/197\u001B[0m \u001B[32m━━━━━━━━━━━━━━━━━━━━\u001B[0m\u001B[37m\u001B[0m \u001B[1m85s\u001B[0m 433ms/step - accuracy: 0.9405 - loss: 0.3544 - val_accuracy: 0.8534 - val_loss: 0.3386\n",
      "Epoch 32/50\n",
      "\u001B[1m197/197\u001B[0m \u001B[32m━━━━━━━━━━━━━━━━━━━━\u001B[0m\u001B[37m\u001B[0m \u001B[1m85s\u001B[0m 432ms/step - accuracy: 0.9385 - loss: 0.3675 - val_accuracy: 0.8534 - val_loss: 0.3386\n",
      "Epoch 33/50\n",
      "\u001B[1m197/197\u001B[0m \u001B[32m━━━━━━━━━━━━━━━━━━━━\u001B[0m\u001B[37m\u001B[0m \u001B[1m85s\u001B[0m 432ms/step - accuracy: 0.9374 - loss: 0.3578 - val_accuracy: 0.8534 - val_loss: 0.3386\n",
      "Epoch 34/50\n",
      "\u001B[1m197/197\u001B[0m \u001B[32m━━━━━━━━━━━━━━━━━━━━\u001B[0m\u001B[37m\u001B[0m \u001B[1m85s\u001B[0m 433ms/step - accuracy: 0.9389 - loss: 0.3510 - val_accuracy: 0.8534 - val_loss: 0.3386\n",
      "Epoch 35/50\n",
      "\u001B[1m197/197\u001B[0m \u001B[32m━━━━━━━━━━━━━━━━━━━━\u001B[0m\u001B[37m\u001B[0m \u001B[1m85s\u001B[0m 434ms/step - accuracy: 0.9367 - loss: 0.3506 - val_accuracy: 0.8534 - val_loss: 0.3386\n",
      "Epoch 36/50\n",
      "\u001B[1m197/197\u001B[0m \u001B[32m━━━━━━━━━━━━━━━━━━━━\u001B[0m\u001B[37m\u001B[0m \u001B[1m85s\u001B[0m 433ms/step - accuracy: 0.9414 - loss: 0.3425 - val_accuracy: 0.8534 - val_loss: 0.3386\n",
      "Epoch 37/50\n",
      "\u001B[1m197/197\u001B[0m \u001B[32m━━━━━━━━━━━━━━━━━━━━\u001B[0m\u001B[37m\u001B[0m \u001B[1m85s\u001B[0m 434ms/step - accuracy: 0.9325 - loss: 0.3706 - val_accuracy: 0.8534 - val_loss: 0.3386\n",
      "Epoch 38/50\n",
      "\u001B[1m197/197\u001B[0m \u001B[32m━━━━━━━━━━━━━━━━━━━━\u001B[0m\u001B[37m\u001B[0m \u001B[1m85s\u001B[0m 434ms/step - accuracy: 0.9356 - loss: 0.3683 - val_accuracy: 0.8534 - val_loss: 0.3386\n",
      "Epoch 39/50\n",
      "\u001B[1m197/197\u001B[0m \u001B[32m━━━━━━━━━━━━━━━━━━━━\u001B[0m\u001B[37m\u001B[0m \u001B[1m86s\u001B[0m 435ms/step - accuracy: 0.9295 - loss: 0.3779 - val_accuracy: 0.8534 - val_loss: 0.3386\n",
      "Epoch 40/50\n",
      "\u001B[1m197/197\u001B[0m \u001B[32m━━━━━━━━━━━━━━━━━━━━\u001B[0m\u001B[37m\u001B[0m \u001B[1m85s\u001B[0m 432ms/step - accuracy: 0.9413 - loss: 0.3434 - val_accuracy: 0.8534 - val_loss: 0.3386\n",
      "Epoch 41/50\n",
      "\u001B[1m197/197\u001B[0m \u001B[32m━━━━━━━━━━━━━━━━━━━━\u001B[0m\u001B[37m\u001B[0m \u001B[1m85s\u001B[0m 433ms/step - accuracy: 0.9406 - loss: 0.3518 - val_accuracy: 0.8534 - val_loss: 0.3386\n",
      "Epoch 42/50\n",
      "\u001B[1m197/197\u001B[0m \u001B[32m━━━━━━━━━━━━━━━━━━━━\u001B[0m\u001B[37m\u001B[0m \u001B[1m85s\u001B[0m 433ms/step - accuracy: 0.9373 - loss: 0.3640 - val_accuracy: 0.8534 - val_loss: 0.3386\n",
      "Epoch 43/50\n",
      "\u001B[1m197/197\u001B[0m \u001B[32m━━━━━━━━━━━━━━━━━━━━\u001B[0m\u001B[37m\u001B[0m \u001B[1m86s\u001B[0m 434ms/step - accuracy: 0.9371 - loss: 0.3451 - val_accuracy: 0.8534 - val_loss: 0.3386\n",
      "Epoch 44/50\n",
      "\u001B[1m197/197\u001B[0m \u001B[32m━━━━━━━━━━━━━━━━━━━━\u001B[0m\u001B[37m\u001B[0m \u001B[1m85s\u001B[0m 432ms/step - accuracy: 0.9319 - loss: 0.3757 - val_accuracy: 0.8534 - val_loss: 0.3386\n",
      "Epoch 45/50\n",
      "\u001B[1m197/197\u001B[0m \u001B[32m━━━━━━━━━━━━━━━━━━━━\u001B[0m\u001B[37m\u001B[0m \u001B[1m85s\u001B[0m 433ms/step - accuracy: 0.9394 - loss: 0.3556 - val_accuracy: 0.8534 - val_loss: 0.3386\n",
      "Epoch 46/50\n",
      "\u001B[1m197/197\u001B[0m \u001B[32m━━━━━━━━━━━━━━━━━━━━\u001B[0m\u001B[37m\u001B[0m \u001B[1m85s\u001B[0m 432ms/step - accuracy: 0.9400 - loss: 0.3478 - val_accuracy: 0.8534 - val_loss: 0.3386\n",
      "Epoch 47/50\n",
      "\u001B[1m197/197\u001B[0m \u001B[32m━━━━━━━━━━━━━━━━━━━━\u001B[0m\u001B[37m\u001B[0m \u001B[1m85s\u001B[0m 431ms/step - accuracy: 0.9347 - loss: 0.3559 - val_accuracy: 0.8534 - val_loss: 0.3386\n",
      "Epoch 48/50\n",
      "\u001B[1m197/197\u001B[0m \u001B[32m━━━━━━━━━━━━━━━━━━━━\u001B[0m\u001B[37m\u001B[0m \u001B[1m85s\u001B[0m 433ms/step - accuracy: 0.9357 - loss: 0.3608 - val_accuracy: 0.8534 - val_loss: 0.3386\n",
      "Epoch 49/50\n",
      "\u001B[1m197/197\u001B[0m \u001B[32m━━━━━━━━━━━━━━━━━━━━\u001B[0m\u001B[37m\u001B[0m \u001B[1m85s\u001B[0m 432ms/step - accuracy: 0.9400 - loss: 0.3480 - val_accuracy: 0.8534 - val_loss: 0.3386\n",
      "Epoch 50/50\n",
      "\u001B[1m197/197\u001B[0m \u001B[32m━━━━━━━━━━━━━━━━━━━━\u001B[0m\u001B[37m\u001B[0m \u001B[1m85s\u001B[0m 433ms/step - accuracy: 0.9420 - loss: 0.3436 - val_accuracy: 0.8534 - val_loss: 0.3386\n"
     ]
    }
   ],
   "execution_count": 26
  },
  {
   "cell_type": "markdown",
   "id": "8b49d875b5927ba6",
   "metadata": {},
   "source": [
    "# 模型保存"
   ]
  },
  {
   "metadata": {
    "ExecuteTime": {
     "end_time": "2024-04-30T15:04:19.435720Z",
     "start_time": "2024-04-30T15:04:19.233321Z"
    }
   },
   "cell_type": "code",
   "source": "model.save('vgg16-s20-s50-40x.keras')",
   "id": "88a18bd15bcc6551",
   "outputs": [],
   "execution_count": 27
  },
  {
   "metadata": {},
   "cell_type": "markdown",
   "source": "# 模型测试",
   "id": "60946c7f3ba1116f"
  },
  {
   "metadata": {
    "ExecuteTime": {
     "end_time": "2024-05-01T01:30:18.189376Z",
     "start_time": "2024-05-01T01:30:18.185962Z"
    }
   },
   "cell_type": "code",
   "source": "test_dataset",
   "id": "3b8113a78bec04b0",
   "outputs": [
    {
     "data": {
      "text/plain": [
       "<generator object create_data_generator at 0x2901870b0>"
      ]
     },
     "execution_count": 42,
     "metadata": {},
     "output_type": "execute_result"
    }
   ],
   "execution_count": 42
  },
  {
   "metadata": {
    "ExecuteTime": {
     "end_time": "2024-05-01T01:59:27.821872Z",
     "start_time": "2024-05-01T01:59:16.827791Z"
    }
   },
   "cell_type": "code",
   "source": [
    "predictions = model.predict(test_dataset, steps=len(test_df) // batch_size, verbose=1)\n",
    "print('Test loss:', predictions[0])\n",
    "print('Test accuracy:', predictions[1])"
   ],
   "id": "d7930faa074e8116",
   "outputs": [
    {
     "name": "stdout",
     "output_type": "stream",
     "text": [
      "\u001B[1m24/24\u001B[0m \u001B[32m━━━━━━━━━━━━━━━━━━━━\u001B[0m\u001B[37m\u001B[0m \u001B[1m10s\u001B[0m 430ms/step\n",
      "Test loss: [0.9961285]\n",
      "Test accuracy: [0.02166528]\n"
     ]
    }
   ],
   "execution_count": 108
  },
  {
   "cell_type": "markdown",
   "id": "2a034419ff5af034",
   "metadata": {},
   "source": [
    "# 模型评估\n",
    "- 计算精度（Precision）\n",
    "- 召回率（Recall）\n",
    "- F1-Score\n",
    "- 混淆矩阵（Confusion Matrix）\n",
    "- RUC曲线"
   ]
  },
  {
   "metadata": {},
   "cell_type": "markdown",
   "source": "## 标签处理",
   "id": "2cc1fbc6b281dfb3"
  },
  {
   "metadata": {
    "ExecuteTime": {
     "end_time": "2024-05-01T02:01:33.106779Z",
     "start_time": "2024-05-01T02:01:33.100061Z"
    }
   },
   "cell_type": "code",
   "source": [
    "# 获取真实的类别标签\n",
    "y_true = test_df['label_encoded'].values\n",
    "\n",
    "# 对输出的预测结果进行处理，以得到最终的预测类别\n",
    "y_pred = (predictions > 0.5).astype(int).flatten()\n",
    "\n",
    "print(len(y_true))\n",
    "print(len(y_pred))"
   ],
   "id": "fba47bbfbf489f5c",
   "outputs": [
    {
     "name": "stdout",
     "output_type": "stream",
     "text": [
      "791\n",
      "791\n"
     ]
    }
   ],
   "execution_count": 114
  },
  {
   "metadata": {},
   "cell_type": "markdown",
   "source": "## 精度、召回率、F1-score",
   "id": "adf063f4170b5ce7"
  },
  {
   "metadata": {
    "ExecuteTime": {
     "end_time": "2024-05-01T02:00:28.958347Z",
     "start_time": "2024-05-01T02:00:28.946824Z"
    }
   },
   "cell_type": "code",
   "source": [
    "import numpy as np\n",
    "from sklearn.metrics import precision_recall_fscore_support, confusion_matrix\n",
    "\n",
    "# 计算精度、召回率、F1-score\n",
    "precision, recall, f1, _ = precision_recall_fscore_support(y_true, y_pred, average='binary')\n",
    "\n",
    "# 打印结果\n",
    "print('Precision: ', precision)\n",
    "print('Recall: ', recall)\n",
    "print('F1-score: ', f1)"
   ],
   "id": "b86e2695b39e8c46",
   "outputs": [
    {
     "name": "stdout",
     "output_type": "stream",
     "text": [
      "Precision:  0.6933333333333334\n",
      "Recall:  0.6703499079189686\n",
      "F1-score:  0.6816479400749064\n",
      "Confusion Matrix: \n",
      " [[ 87 161]\n",
      " [179 364]]\n"
     ]
    }
   ],
   "execution_count": 113
  },
  {
   "metadata": {},
   "cell_type": "markdown",
   "source": "## 混淆矩阵",
   "id": "5abd54ff7fb866"
  },
  {
   "metadata": {
    "ExecuteTime": {
     "end_time": "2024-05-01T02:07:12.142038Z",
     "start_time": "2024-05-01T02:07:11.847638Z"
    }
   },
   "cell_type": "code",
   "source": [
    "from sklearn.metrics import confusion_matrix\n",
    "\n",
    "# 计算混淆矩阵\n",
    "confusion = confusion_matrix(y_true, y_pred)\n",
    "\n",
    "# 创建一个Matplotlib的图像并设置其大小\n",
    "plt.figure(figsize=(10,7))\n",
    "\n",
    "# 在图像上创建一个Seaborn 热力图\n",
    "sns.heatmap(confusion, annot=True, fmt=\"d\")\n",
    "\n",
    "# 添加标题和坐标轴标签\n",
    "plt.title('Confusion Matrix')\n",
    "plt.ylabel('True label')\n",
    "plt.xlabel('Predicted label')\n",
    "\n",
    "# 打印结果\n",
    "print('Confusion Matrix: \\n', confusion)\n",
    "\n",
    "# 显示图像\n",
    "plt.show()"
   ],
   "id": "6099d776c72ebd0a",
   "outputs": [
    {
     "name": "stdout",
     "output_type": "stream",
     "text": [
      "Confusion Matrix: \n",
      " [[ 87 161]\n",
      " [179 364]]\n"
     ]
    },
    {
     "data": {
      "text/plain": [
       "<Figure size 1000x700 with 2 Axes>"
      ],
      "image/png": "[encoded data removed]"
     },
     "metadata": {},
     "output_type": "display_data"
    }
   ],
   "execution_count": 118
  },
  {
   "metadata": {},
   "cell_type": "markdown",
   "source": "## 绘制RUC曲线",
   "id": "3c65ac7be0e45ed7"
  },
  {
   "metadata": {
    "ExecuteTime": {
     "end_time": "2024-05-01T02:07:44.981015Z",
     "start_time": "2024-05-01T02:07:44.874443Z"
    }
   },
   "cell_type": "code",
   "source": [
    "from sklearn.metrics import roc_curve, auc\n",
    "import matplotlib.pyplot as plt\n",
    "\n",
    "# 计算ROC曲线需要的值：假阳性率(FPR)、真阳性率(TPR)\n",
    "fpr, tpr, _ = roc_curve(y_true, y_pred)\n",
    "\n",
    "# 计算曲线下面积(AUC)\n",
    "roc_auc = auc(fpr, tpr)\n",
    "\n",
    "# 绘制ROC曲线\n",
    "plt.figure()\n",
    "lw = 2  # 线条宽度\n",
    "plt.plot(fpr, tpr, color='darkorange', lw=lw, label='ROC curve (area = %0.2f)' % roc_auc)\n",
    "plt.plot([0, 1], [0, 1], color='navy', lw=lw, linestyle='--')  # 绘制对角线（随机预测）\n",
    "plt.xlim([0.0, 1.0])  # 设置x轴范围\n",
    "plt.ylim([0.0, 1.05])  # 设置y轴范围\n",
    "plt.xlabel('False Positive Rate')\n",
    "plt.ylabel('True Positive Rate')\n",
    "plt.title('Receiver Operating Characteristic example')\n",
    "plt.legend(loc=\"lower right\")\n",
    "plt.show()"
   ],
   "id": "b63af2249031ed16",
   "outputs": [
    {
     "data": {
      "text/plain": [
       "<Figure size 640x480 with 1 Axes>"
      ],
      "image/png": "[encoded data removed]"
     },
     "metadata": {},
     "output_type": "display_data"
    }
   ],
   "execution_count": 119
  },
  {
   "cell_type": "markdown",
   "id": "7741dc29b6299412",
   "metadata": {},
   "source": "## loss和accuracy曲线"
  },
  {
   "metadata": {
    "ExecuteTime": {
     "end_time": "2024-05-01T02:06:04.913140Z",
     "start_time": "2024-05-01T02:06:04.613507Z"
    }
   },
   "cell_type": "code",
   "source": [
    "import matplotlib.pyplot as plt\n",
    "\n",
    "# 创建第一个图形，展示loss的变化\n",
    "plt.figure(figsize=(12, 4))\n",
    "plt.plot(history_initial.history['loss'] + history_fine_tune.history['loss'], label='Train Loss')\n",
    "plt.plot(history_initial.history['val_loss'] + history_fine_tune.history['val_loss'], label='Validation Loss')\n",
    "plt.axvline(x=len(history_initial.history['loss']), linestyle='--', color='r',label='Start Fine-tuning')\n",
    "plt.title('Loss vs. Epoch')\n",
    "plt.ylabel('Loss')\n",
    "plt.xlabel('Epoch')\n",
    "plt.legend()\n",
    "plt.show()\n",
    "\n",
    "# 创建第二个图形，展示accuracy的变化\n",
    "plt.figure(figsize=(12, 4))\n",
    "plt.plot(history_initial.history['accuracy'] + history_fine_tune.history['accuracy'], label='Train Accuracy')\n",
    "plt.plot(history_initial.history['val_accuracy'] + history_fine_tune.history['val_accuracy'], label='Validation Accuracy')\n",
    "plt.axvline(x=len(history_initial.history['accuracy']), linestyle='--', color='r',label='Start Fine-tuning')\n",
    "plt.title('Accuracy vs. Epoch')\n",
    "plt.ylabel('Accuracy')\n",
    "plt.xlabel('Epoch')\n",
    "plt.legend()\n",
    "plt.show()"
   ],
   "id": "d57ea542b1b1fb61",
   "outputs": [
    {
     "data": {
      "text/plain": [
       "<Figure size 1200x400 with 1 Axes>"
      ],
      "image/png": "[encoded data removed]"
     },
     "metadata": {},
     "output_type": "display_data"
    },
    {
     "data": {
      "text/plain": [
       "<Figure size 1200x400 with 1 Axes>"
      ],
      "image/png": "[encoded data removed]"
     },
     "metadata": {},
     "output_type": "display_data"
    }
   ],
   "execution_count": 116
  }
 ],
 "metadata": {
  "kernelspec": {
   "display_name": "Python 3",
   "language": "python",
   "name": "python3"
  },
  "language_info": {
   "codemirror_mode": {
    "name": "ipython",
    "version": 3
   },
   "file_extension": ".py",
   "mimetype": "text/x-python",
   "name": "python",
   "nbconvert_exporter": "python",
   "pygments_lexer": "ipython3",
   "version": "3.9.6"
  }
 },
 "nbformat": 4,
 "nbformat_minor": 5
}
